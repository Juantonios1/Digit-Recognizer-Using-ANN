{
 "cells": [
  {
   "cell_type": "markdown",
   "metadata": {},
   "source": [
    "**Digit Recognizer Using Artificial Neural Network**\n",
    "\n",
    "Source: https://www.kaggle.com/competitions/digit-recognizer/data"
   ]
  },
  {
   "cell_type": "markdown",
   "metadata": {},
   "source": [
    "# Library"
   ]
  },
  {
   "cell_type": "code",
   "execution_count": 161,
   "metadata": {
    "ExecuteTime": {
     "end_time": "2022-06-02T06:30:39.487946Z",
     "start_time": "2022-06-02T06:30:39.473611Z"
    }
   },
   "outputs": [],
   "source": [
    "#Basic statistic & visualization\n",
    "import pandas as pd\n",
    "import numpy as np\n",
    "import matplotlib.pyplot as plt\n",
    "import seaborn as sns\n",
    "import random\n",
    "import itertools\n",
    "\n",
    "#Model\n",
    "import tensorflow as tf\n",
    "from tensorflow.keras import regularizers\n",
    "\n",
    "#Confusion Matrix\n",
    "from sklearn.metrics import confusion_matrix\n",
    "\n",
    "#Hyperparameter Tuning\n",
    "import keras_tuner as kt\n",
    "from tensorflow import keras\n",
    "\n",
    "#Image Converter\n",
    "from keras.preprocessing.image import load_img\n",
    "from keras.preprocessing.image import img_to_array"
   ]
  },
  {
   "cell_type": "markdown",
   "metadata": {},
   "source": [
    "# Load Dataset"
   ]
  },
  {
   "cell_type": "markdown",
   "metadata": {},
   "source": [
    "## Train Dataset"
   ]
  },
  {
   "cell_type": "code",
   "execution_count": 2,
   "metadata": {
    "ExecuteTime": {
     "end_time": "2022-06-02T02:44:55.873528Z",
     "start_time": "2022-06-02T02:44:53.835298Z"
    },
    "scrolled": true
   },
   "outputs": [
    {
     "data": {
      "text/html": [
       "<div>\n",
       "<style scoped>\n",
       "    .dataframe tbody tr th:only-of-type {\n",
       "        vertical-align: middle;\n",
       "    }\n",
       "\n",
       "    .dataframe tbody tr th {\n",
       "        vertical-align: top;\n",
       "    }\n",
       "\n",
       "    .dataframe thead th {\n",
       "        text-align: right;\n",
       "    }\n",
       "</style>\n",
       "<table border=\"1\" class=\"dataframe\">\n",
       "  <thead>\n",
       "    <tr style=\"text-align: right;\">\n",
       "      <th></th>\n",
       "      <th>label</th>\n",
       "      <th>pixel0</th>\n",
       "      <th>pixel1</th>\n",
       "      <th>pixel2</th>\n",
       "      <th>pixel3</th>\n",
       "      <th>pixel4</th>\n",
       "      <th>pixel5</th>\n",
       "      <th>pixel6</th>\n",
       "      <th>pixel7</th>\n",
       "      <th>pixel8</th>\n",
       "      <th>...</th>\n",
       "      <th>pixel774</th>\n",
       "      <th>pixel775</th>\n",
       "      <th>pixel776</th>\n",
       "      <th>pixel777</th>\n",
       "      <th>pixel778</th>\n",
       "      <th>pixel779</th>\n",
       "      <th>pixel780</th>\n",
       "      <th>pixel781</th>\n",
       "      <th>pixel782</th>\n",
       "      <th>pixel783</th>\n",
       "    </tr>\n",
       "  </thead>\n",
       "  <tbody>\n",
       "    <tr>\n",
       "      <th>0</th>\n",
       "      <td>1</td>\n",
       "      <td>0</td>\n",
       "      <td>0</td>\n",
       "      <td>0</td>\n",
       "      <td>0</td>\n",
       "      <td>0</td>\n",
       "      <td>0</td>\n",
       "      <td>0</td>\n",
       "      <td>0</td>\n",
       "      <td>0</td>\n",
       "      <td>...</td>\n",
       "      <td>0</td>\n",
       "      <td>0</td>\n",
       "      <td>0</td>\n",
       "      <td>0</td>\n",
       "      <td>0</td>\n",
       "      <td>0</td>\n",
       "      <td>0</td>\n",
       "      <td>0</td>\n",
       "      <td>0</td>\n",
       "      <td>0</td>\n",
       "    </tr>\n",
       "    <tr>\n",
       "      <th>1</th>\n",
       "      <td>0</td>\n",
       "      <td>0</td>\n",
       "      <td>0</td>\n",
       "      <td>0</td>\n",
       "      <td>0</td>\n",
       "      <td>0</td>\n",
       "      <td>0</td>\n",
       "      <td>0</td>\n",
       "      <td>0</td>\n",
       "      <td>0</td>\n",
       "      <td>...</td>\n",
       "      <td>0</td>\n",
       "      <td>0</td>\n",
       "      <td>0</td>\n",
       "      <td>0</td>\n",
       "      <td>0</td>\n",
       "      <td>0</td>\n",
       "      <td>0</td>\n",
       "      <td>0</td>\n",
       "      <td>0</td>\n",
       "      <td>0</td>\n",
       "    </tr>\n",
       "    <tr>\n",
       "      <th>2</th>\n",
       "      <td>1</td>\n",
       "      <td>0</td>\n",
       "      <td>0</td>\n",
       "      <td>0</td>\n",
       "      <td>0</td>\n",
       "      <td>0</td>\n",
       "      <td>0</td>\n",
       "      <td>0</td>\n",
       "      <td>0</td>\n",
       "      <td>0</td>\n",
       "      <td>...</td>\n",
       "      <td>0</td>\n",
       "      <td>0</td>\n",
       "      <td>0</td>\n",
       "      <td>0</td>\n",
       "      <td>0</td>\n",
       "      <td>0</td>\n",
       "      <td>0</td>\n",
       "      <td>0</td>\n",
       "      <td>0</td>\n",
       "      <td>0</td>\n",
       "    </tr>\n",
       "    <tr>\n",
       "      <th>3</th>\n",
       "      <td>4</td>\n",
       "      <td>0</td>\n",
       "      <td>0</td>\n",
       "      <td>0</td>\n",
       "      <td>0</td>\n",
       "      <td>0</td>\n",
       "      <td>0</td>\n",
       "      <td>0</td>\n",
       "      <td>0</td>\n",
       "      <td>0</td>\n",
       "      <td>...</td>\n",
       "      <td>0</td>\n",
       "      <td>0</td>\n",
       "      <td>0</td>\n",
       "      <td>0</td>\n",
       "      <td>0</td>\n",
       "      <td>0</td>\n",
       "      <td>0</td>\n",
       "      <td>0</td>\n",
       "      <td>0</td>\n",
       "      <td>0</td>\n",
       "    </tr>\n",
       "    <tr>\n",
       "      <th>4</th>\n",
       "      <td>0</td>\n",
       "      <td>0</td>\n",
       "      <td>0</td>\n",
       "      <td>0</td>\n",
       "      <td>0</td>\n",
       "      <td>0</td>\n",
       "      <td>0</td>\n",
       "      <td>0</td>\n",
       "      <td>0</td>\n",
       "      <td>0</td>\n",
       "      <td>...</td>\n",
       "      <td>0</td>\n",
       "      <td>0</td>\n",
       "      <td>0</td>\n",
       "      <td>0</td>\n",
       "      <td>0</td>\n",
       "      <td>0</td>\n",
       "      <td>0</td>\n",
       "      <td>0</td>\n",
       "      <td>0</td>\n",
       "      <td>0</td>\n",
       "    </tr>\n",
       "  </tbody>\n",
       "</table>\n",
       "<p>5 rows × 785 columns</p>\n",
       "</div>"
      ],
      "text/plain": [
       "   label  pixel0  pixel1  pixel2  pixel3  pixel4  pixel5  pixel6  pixel7  \\\n",
       "0      1       0       0       0       0       0       0       0       0   \n",
       "1      0       0       0       0       0       0       0       0       0   \n",
       "2      1       0       0       0       0       0       0       0       0   \n",
       "3      4       0       0       0       0       0       0       0       0   \n",
       "4      0       0       0       0       0       0       0       0       0   \n",
       "\n",
       "   pixel8  ...  pixel774  pixel775  pixel776  pixel777  pixel778  pixel779  \\\n",
       "0       0  ...         0         0         0         0         0         0   \n",
       "1       0  ...         0         0         0         0         0         0   \n",
       "2       0  ...         0         0         0         0         0         0   \n",
       "3       0  ...         0         0         0         0         0         0   \n",
       "4       0  ...         0         0         0         0         0         0   \n",
       "\n",
       "   pixel780  pixel781  pixel782  pixel783  \n",
       "0         0         0         0         0  \n",
       "1         0         0         0         0  \n",
       "2         0         0         0         0  \n",
       "3         0         0         0         0  \n",
       "4         0         0         0         0  \n",
       "\n",
       "[5 rows x 785 columns]"
      ]
     },
     "execution_count": 2,
     "metadata": {},
     "output_type": "execute_result"
    }
   ],
   "source": [
    "df_train= pd.read_csv('train.csv')\n",
    "df_train.head()"
   ]
  },
  {
   "cell_type": "markdown",
   "metadata": {},
   "source": [
    "## Test Dataset"
   ]
  },
  {
   "cell_type": "code",
   "execution_count": 3,
   "metadata": {
    "ExecuteTime": {
     "end_time": "2022-06-02T02:44:57.267832Z",
     "start_time": "2022-06-02T02:44:55.875516Z"
    },
    "scrolled": true
   },
   "outputs": [
    {
     "data": {
      "text/html": [
       "<div>\n",
       "<style scoped>\n",
       "    .dataframe tbody tr th:only-of-type {\n",
       "        vertical-align: middle;\n",
       "    }\n",
       "\n",
       "    .dataframe tbody tr th {\n",
       "        vertical-align: top;\n",
       "    }\n",
       "\n",
       "    .dataframe thead th {\n",
       "        text-align: right;\n",
       "    }\n",
       "</style>\n",
       "<table border=\"1\" class=\"dataframe\">\n",
       "  <thead>\n",
       "    <tr style=\"text-align: right;\">\n",
       "      <th></th>\n",
       "      <th>pixel0</th>\n",
       "      <th>pixel1</th>\n",
       "      <th>pixel2</th>\n",
       "      <th>pixel3</th>\n",
       "      <th>pixel4</th>\n",
       "      <th>pixel5</th>\n",
       "      <th>pixel6</th>\n",
       "      <th>pixel7</th>\n",
       "      <th>pixel8</th>\n",
       "      <th>pixel9</th>\n",
       "      <th>...</th>\n",
       "      <th>pixel774</th>\n",
       "      <th>pixel775</th>\n",
       "      <th>pixel776</th>\n",
       "      <th>pixel777</th>\n",
       "      <th>pixel778</th>\n",
       "      <th>pixel779</th>\n",
       "      <th>pixel780</th>\n",
       "      <th>pixel781</th>\n",
       "      <th>pixel782</th>\n",
       "      <th>pixel783</th>\n",
       "    </tr>\n",
       "  </thead>\n",
       "  <tbody>\n",
       "    <tr>\n",
       "      <th>0</th>\n",
       "      <td>0</td>\n",
       "      <td>0</td>\n",
       "      <td>0</td>\n",
       "      <td>0</td>\n",
       "      <td>0</td>\n",
       "      <td>0</td>\n",
       "      <td>0</td>\n",
       "      <td>0</td>\n",
       "      <td>0</td>\n",
       "      <td>0</td>\n",
       "      <td>...</td>\n",
       "      <td>0</td>\n",
       "      <td>0</td>\n",
       "      <td>0</td>\n",
       "      <td>0</td>\n",
       "      <td>0</td>\n",
       "      <td>0</td>\n",
       "      <td>0</td>\n",
       "      <td>0</td>\n",
       "      <td>0</td>\n",
       "      <td>0</td>\n",
       "    </tr>\n",
       "    <tr>\n",
       "      <th>1</th>\n",
       "      <td>0</td>\n",
       "      <td>0</td>\n",
       "      <td>0</td>\n",
       "      <td>0</td>\n",
       "      <td>0</td>\n",
       "      <td>0</td>\n",
       "      <td>0</td>\n",
       "      <td>0</td>\n",
       "      <td>0</td>\n",
       "      <td>0</td>\n",
       "      <td>...</td>\n",
       "      <td>0</td>\n",
       "      <td>0</td>\n",
       "      <td>0</td>\n",
       "      <td>0</td>\n",
       "      <td>0</td>\n",
       "      <td>0</td>\n",
       "      <td>0</td>\n",
       "      <td>0</td>\n",
       "      <td>0</td>\n",
       "      <td>0</td>\n",
       "    </tr>\n",
       "    <tr>\n",
       "      <th>2</th>\n",
       "      <td>0</td>\n",
       "      <td>0</td>\n",
       "      <td>0</td>\n",
       "      <td>0</td>\n",
       "      <td>0</td>\n",
       "      <td>0</td>\n",
       "      <td>0</td>\n",
       "      <td>0</td>\n",
       "      <td>0</td>\n",
       "      <td>0</td>\n",
       "      <td>...</td>\n",
       "      <td>0</td>\n",
       "      <td>0</td>\n",
       "      <td>0</td>\n",
       "      <td>0</td>\n",
       "      <td>0</td>\n",
       "      <td>0</td>\n",
       "      <td>0</td>\n",
       "      <td>0</td>\n",
       "      <td>0</td>\n",
       "      <td>0</td>\n",
       "    </tr>\n",
       "    <tr>\n",
       "      <th>3</th>\n",
       "      <td>0</td>\n",
       "      <td>0</td>\n",
       "      <td>0</td>\n",
       "      <td>0</td>\n",
       "      <td>0</td>\n",
       "      <td>0</td>\n",
       "      <td>0</td>\n",
       "      <td>0</td>\n",
       "      <td>0</td>\n",
       "      <td>0</td>\n",
       "      <td>...</td>\n",
       "      <td>0</td>\n",
       "      <td>0</td>\n",
       "      <td>0</td>\n",
       "      <td>0</td>\n",
       "      <td>0</td>\n",
       "      <td>0</td>\n",
       "      <td>0</td>\n",
       "      <td>0</td>\n",
       "      <td>0</td>\n",
       "      <td>0</td>\n",
       "    </tr>\n",
       "    <tr>\n",
       "      <th>4</th>\n",
       "      <td>0</td>\n",
       "      <td>0</td>\n",
       "      <td>0</td>\n",
       "      <td>0</td>\n",
       "      <td>0</td>\n",
       "      <td>0</td>\n",
       "      <td>0</td>\n",
       "      <td>0</td>\n",
       "      <td>0</td>\n",
       "      <td>0</td>\n",
       "      <td>...</td>\n",
       "      <td>0</td>\n",
       "      <td>0</td>\n",
       "      <td>0</td>\n",
       "      <td>0</td>\n",
       "      <td>0</td>\n",
       "      <td>0</td>\n",
       "      <td>0</td>\n",
       "      <td>0</td>\n",
       "      <td>0</td>\n",
       "      <td>0</td>\n",
       "    </tr>\n",
       "  </tbody>\n",
       "</table>\n",
       "<p>5 rows × 784 columns</p>\n",
       "</div>"
      ],
      "text/plain": [
       "   pixel0  pixel1  pixel2  pixel3  pixel4  pixel5  pixel6  pixel7  pixel8  \\\n",
       "0       0       0       0       0       0       0       0       0       0   \n",
       "1       0       0       0       0       0       0       0       0       0   \n",
       "2       0       0       0       0       0       0       0       0       0   \n",
       "3       0       0       0       0       0       0       0       0       0   \n",
       "4       0       0       0       0       0       0       0       0       0   \n",
       "\n",
       "   pixel9  ...  pixel774  pixel775  pixel776  pixel777  pixel778  pixel779  \\\n",
       "0       0  ...         0         0         0         0         0         0   \n",
       "1       0  ...         0         0         0         0         0         0   \n",
       "2       0  ...         0         0         0         0         0         0   \n",
       "3       0  ...         0         0         0         0         0         0   \n",
       "4       0  ...         0         0         0         0         0         0   \n",
       "\n",
       "   pixel780  pixel781  pixel782  pixel783  \n",
       "0         0         0         0         0  \n",
       "1         0         0         0         0  \n",
       "2         0         0         0         0  \n",
       "3         0         0         0         0  \n",
       "4         0         0         0         0  \n",
       "\n",
       "[5 rows x 784 columns]"
      ]
     },
     "execution_count": 3,
     "metadata": {},
     "output_type": "execute_result"
    }
   ],
   "source": [
    "df_test = pd.read_csv('test.csv')\n",
    "df_test.head()"
   ]
  },
  {
   "cell_type": "markdown",
   "metadata": {},
   "source": [
    "## Dataset Information"
   ]
  },
  {
   "cell_type": "code",
   "execution_count": 4,
   "metadata": {
    "ExecuteTime": {
     "end_time": "2022-06-02T02:44:57.283295Z",
     "start_time": "2022-06-02T02:44:57.269695Z"
    }
   },
   "outputs": [
    {
     "name": "stdout",
     "output_type": "stream",
     "text": [
      "Train: (42000, 785) Test: (28000, 784)\n"
     ]
    }
   ],
   "source": [
    "#Shape\n",
    "print('Train:',df_train.shape, 'Test:', df_test.shape)"
   ]
  },
  {
   "cell_type": "markdown",
   "metadata": {},
   "source": [
    "Data Train: Each row has 1 label and pixels with height 28 pixels and width 28 pixels.<br>\n",
    "Data Test: Each row pixels with height 28 pixels and width 28 pixels."
   ]
  },
  {
   "cell_type": "markdown",
   "metadata": {},
   "source": [
    "## Determine Target"
   ]
  },
  {
   "cell_type": "code",
   "execution_count": 5,
   "metadata": {
    "ExecuteTime": {
     "end_time": "2022-06-02T02:44:57.377801Z",
     "start_time": "2022-06-02T02:44:57.285277Z"
    }
   },
   "outputs": [
    {
     "data": {
      "text/html": [
       "<div>\n",
       "<style scoped>\n",
       "    .dataframe tbody tr th:only-of-type {\n",
       "        vertical-align: middle;\n",
       "    }\n",
       "\n",
       "    .dataframe tbody tr th {\n",
       "        vertical-align: top;\n",
       "    }\n",
       "\n",
       "    .dataframe thead th {\n",
       "        text-align: right;\n",
       "    }\n",
       "</style>\n",
       "<table border=\"1\" class=\"dataframe\">\n",
       "  <thead>\n",
       "    <tr style=\"text-align: right;\">\n",
       "      <th></th>\n",
       "      <th>pixel0</th>\n",
       "      <th>pixel1</th>\n",
       "      <th>pixel2</th>\n",
       "      <th>pixel3</th>\n",
       "      <th>pixel4</th>\n",
       "      <th>pixel5</th>\n",
       "      <th>pixel6</th>\n",
       "      <th>pixel7</th>\n",
       "      <th>pixel8</th>\n",
       "      <th>pixel9</th>\n",
       "      <th>...</th>\n",
       "      <th>pixel774</th>\n",
       "      <th>pixel775</th>\n",
       "      <th>pixel776</th>\n",
       "      <th>pixel777</th>\n",
       "      <th>pixel778</th>\n",
       "      <th>pixel779</th>\n",
       "      <th>pixel780</th>\n",
       "      <th>pixel781</th>\n",
       "      <th>pixel782</th>\n",
       "      <th>pixel783</th>\n",
       "    </tr>\n",
       "  </thead>\n",
       "  <tbody>\n",
       "    <tr>\n",
       "      <th>0</th>\n",
       "      <td>0</td>\n",
       "      <td>0</td>\n",
       "      <td>0</td>\n",
       "      <td>0</td>\n",
       "      <td>0</td>\n",
       "      <td>0</td>\n",
       "      <td>0</td>\n",
       "      <td>0</td>\n",
       "      <td>0</td>\n",
       "      <td>0</td>\n",
       "      <td>...</td>\n",
       "      <td>0</td>\n",
       "      <td>0</td>\n",
       "      <td>0</td>\n",
       "      <td>0</td>\n",
       "      <td>0</td>\n",
       "      <td>0</td>\n",
       "      <td>0</td>\n",
       "      <td>0</td>\n",
       "      <td>0</td>\n",
       "      <td>0</td>\n",
       "    </tr>\n",
       "    <tr>\n",
       "      <th>1</th>\n",
       "      <td>0</td>\n",
       "      <td>0</td>\n",
       "      <td>0</td>\n",
       "      <td>0</td>\n",
       "      <td>0</td>\n",
       "      <td>0</td>\n",
       "      <td>0</td>\n",
       "      <td>0</td>\n",
       "      <td>0</td>\n",
       "      <td>0</td>\n",
       "      <td>...</td>\n",
       "      <td>0</td>\n",
       "      <td>0</td>\n",
       "      <td>0</td>\n",
       "      <td>0</td>\n",
       "      <td>0</td>\n",
       "      <td>0</td>\n",
       "      <td>0</td>\n",
       "      <td>0</td>\n",
       "      <td>0</td>\n",
       "      <td>0</td>\n",
       "    </tr>\n",
       "    <tr>\n",
       "      <th>2</th>\n",
       "      <td>0</td>\n",
       "      <td>0</td>\n",
       "      <td>0</td>\n",
       "      <td>0</td>\n",
       "      <td>0</td>\n",
       "      <td>0</td>\n",
       "      <td>0</td>\n",
       "      <td>0</td>\n",
       "      <td>0</td>\n",
       "      <td>0</td>\n",
       "      <td>...</td>\n",
       "      <td>0</td>\n",
       "      <td>0</td>\n",
       "      <td>0</td>\n",
       "      <td>0</td>\n",
       "      <td>0</td>\n",
       "      <td>0</td>\n",
       "      <td>0</td>\n",
       "      <td>0</td>\n",
       "      <td>0</td>\n",
       "      <td>0</td>\n",
       "    </tr>\n",
       "    <tr>\n",
       "      <th>3</th>\n",
       "      <td>0</td>\n",
       "      <td>0</td>\n",
       "      <td>0</td>\n",
       "      <td>0</td>\n",
       "      <td>0</td>\n",
       "      <td>0</td>\n",
       "      <td>0</td>\n",
       "      <td>0</td>\n",
       "      <td>0</td>\n",
       "      <td>0</td>\n",
       "      <td>...</td>\n",
       "      <td>0</td>\n",
       "      <td>0</td>\n",
       "      <td>0</td>\n",
       "      <td>0</td>\n",
       "      <td>0</td>\n",
       "      <td>0</td>\n",
       "      <td>0</td>\n",
       "      <td>0</td>\n",
       "      <td>0</td>\n",
       "      <td>0</td>\n",
       "    </tr>\n",
       "    <tr>\n",
       "      <th>4</th>\n",
       "      <td>0</td>\n",
       "      <td>0</td>\n",
       "      <td>0</td>\n",
       "      <td>0</td>\n",
       "      <td>0</td>\n",
       "      <td>0</td>\n",
       "      <td>0</td>\n",
       "      <td>0</td>\n",
       "      <td>0</td>\n",
       "      <td>0</td>\n",
       "      <td>...</td>\n",
       "      <td>0</td>\n",
       "      <td>0</td>\n",
       "      <td>0</td>\n",
       "      <td>0</td>\n",
       "      <td>0</td>\n",
       "      <td>0</td>\n",
       "      <td>0</td>\n",
       "      <td>0</td>\n",
       "      <td>0</td>\n",
       "      <td>0</td>\n",
       "    </tr>\n",
       "  </tbody>\n",
       "</table>\n",
       "<p>5 rows × 784 columns</p>\n",
       "</div>"
      ],
      "text/plain": [
       "   pixel0  pixel1  pixel2  pixel3  pixel4  pixel5  pixel6  pixel7  pixel8  \\\n",
       "0       0       0       0       0       0       0       0       0       0   \n",
       "1       0       0       0       0       0       0       0       0       0   \n",
       "2       0       0       0       0       0       0       0       0       0   \n",
       "3       0       0       0       0       0       0       0       0       0   \n",
       "4       0       0       0       0       0       0       0       0       0   \n",
       "\n",
       "   pixel9  ...  pixel774  pixel775  pixel776  pixel777  pixel778  pixel779  \\\n",
       "0       0  ...         0         0         0         0         0         0   \n",
       "1       0  ...         0         0         0         0         0         0   \n",
       "2       0  ...         0         0         0         0         0         0   \n",
       "3       0  ...         0         0         0         0         0         0   \n",
       "4       0  ...         0         0         0         0         0         0   \n",
       "\n",
       "   pixel780  pixel781  pixel782  pixel783  \n",
       "0         0         0         0         0  \n",
       "1         0         0         0         0  \n",
       "2         0         0         0         0  \n",
       "3         0         0         0         0  \n",
       "4         0         0         0         0  \n",
       "\n",
       "[5 rows x 784 columns]"
      ]
     },
     "execution_count": 5,
     "metadata": {},
     "output_type": "execute_result"
    }
   ],
   "source": [
    "#x_train\n",
    "data_train = (df_train.drop(columns=['label']))\n",
    "data_train.head()"
   ]
  },
  {
   "cell_type": "code",
   "execution_count": 6,
   "metadata": {
    "ExecuteTime": {
     "end_time": "2022-06-02T02:44:57.392949Z",
     "start_time": "2022-06-02T02:44:57.379866Z"
    }
   },
   "outputs": [
    {
     "data": {
      "text/plain": [
       "0    1\n",
       "1    0\n",
       "2    1\n",
       "3    4\n",
       "4    0\n",
       "Name: label, dtype: int64"
      ]
     },
     "execution_count": 6,
     "metadata": {},
     "output_type": "execute_result"
    }
   ],
   "source": [
    "#y_train\n",
    "label = df_train['label']\n",
    "label.head()"
   ]
  },
  {
   "cell_type": "markdown",
   "metadata": {},
   "source": [
    "# Exploratory Dataset Analysis (EDA)"
   ]
  },
  {
   "cell_type": "markdown",
   "metadata": {},
   "source": [
    "## Sample Picture"
   ]
  },
  {
   "cell_type": "code",
   "execution_count": 210,
   "metadata": {
    "ExecuteTime": {
     "end_time": "2022-06-02T07:19:24.847334Z",
     "start_time": "2022-06-02T07:19:24.240117Z"
    }
   },
   "outputs": [
    {
     "data": {
      "image/png": "[encoded data removed]",
      "text/plain": [
       "<Figure size 504x504 with 9 Axes>"
      ]
     },
     "metadata": {
      "needs_background": "light"
     },
     "output_type": "display_data"
    }
   ],
   "source": [
    "plt.figure(figsize=(7,7))\n",
    "for i in range(9):\n",
    "    ax = plt.subplot(3,3,i+1).axis(False)\n",
    "    index = random.choice(range(len(df_train)))\n",
    "    plt.imshow(data_train.iloc[index].to_numpy(dtype='float32').reshape((28, 28, 1)) / 255.0,cmap = plt.cm.binary)\n",
    "    plt.title(f'Number:{label[index]}')"
   ]
  },
  {
   "cell_type": "markdown",
   "metadata": {
    "ExecuteTime": {
     "end_time": "2022-05-31T07:02:03.634570Z",
     "start_time": "2022-05-31T07:02:03.616321Z"
    }
   },
   "source": [
    "## Range of Data"
   ]
  },
  {
   "cell_type": "code",
   "execution_count": 8,
   "metadata": {
    "ExecuteTime": {
     "end_time": "2022-06-02T02:44:57.951566Z",
     "start_time": "2022-06-02T02:44:57.940126Z"
    }
   },
   "outputs": [
    {
     "name": "stdout",
     "output_type": "stream",
     "text": [
      "Maximum value: 255\n",
      "Minimum value: 0\n"
     ]
    }
   ],
   "source": [
    "print(f'''Maximum value: {data_train.iloc[0].max()}\n",
    "Minimum value: {data_train.iloc[0].min()}''')"
   ]
  },
  {
   "cell_type": "markdown",
   "metadata": {},
   "source": [
    "# Preprocessing"
   ]
  },
  {
   "cell_type": "markdown",
   "metadata": {},
   "source": [
    "## Normalization"
   ]
  },
  {
   "cell_type": "code",
   "execution_count": 9,
   "metadata": {
    "ExecuteTime": {
     "end_time": "2022-06-02T02:44:58.122268Z",
     "start_time": "2022-06-02T02:44:57.954577Z"
    }
   },
   "outputs": [
    {
     "name": "stdout",
     "output_type": "stream",
     "text": [
      "x_train_norm:\n",
      "Maximum value: 1.0\n",
      "Minimum value: 0.0\n",
      "\n",
      "df_test_norm\n",
      "Maximum value: 1.0\n",
      "Minimum value: 0.0\n"
     ]
    }
   ],
   "source": [
    "data_train_norm = data_train/255.0\n",
    "df_test_norm = df_test/255.0\n",
    "\n",
    "print(f'''x_train_norm:\n",
    "Maximum value: {data_train_norm.iloc[0].max()}\n",
    "Minimum value: {data_train_norm.iloc[0].min()}\n",
    "\n",
    "df_test_norm\n",
    "Maximum value: {df_test_norm.iloc[0].max()}\n",
    "Minimum value: {df_test_norm.iloc[0].min()}''')"
   ]
  },
  {
   "cell_type": "markdown",
   "metadata": {},
   "source": [
    "## Shuffle Dataset"
   ]
  },
  {
   "cell_type": "code",
   "execution_count": 10,
   "metadata": {
    "ExecuteTime": {
     "end_time": "2022-06-02T02:44:59.436915Z",
     "start_time": "2022-06-02T02:44:58.124779Z"
    }
   },
   "outputs": [],
   "source": [
    "tf.random.set_seed(42)\n",
    "data_train_s = tf.random.shuffle(data_train_norm,seed = 46)\n",
    "label_s = tf.random.shuffle(label,seed = 46)"
   ]
  },
  {
   "cell_type": "code",
   "execution_count": 11,
   "metadata": {
    "ExecuteTime": {
     "end_time": "2022-06-02T02:44:59.652823Z",
     "start_time": "2022-06-02T02:44:59.439562Z"
    }
   },
   "outputs": [
    {
     "data": {
      "image/png": "[encoded data removed]",
      "text/plain": [
       "<Figure size 432x288 with 1 Axes>"
      ]
     },
     "metadata": {
      "needs_background": "light"
     },
     "output_type": "display_data"
    }
   ],
   "source": [
    "plt.imshow(tf.reshape(data_train_s[-3],[28,28]) / 255.0,cmap = plt.cm.binary)\n",
    "plt.title(f'Number:{label_s[-3]}')\n",
    "plt.show()"
   ]
  },
  {
   "cell_type": "markdown",
   "metadata": {},
   "source": [
    "## Splitting"
   ]
  },
  {
   "cell_type": "code",
   "execution_count": 12,
   "metadata": {
    "ExecuteTime": {
     "end_time": "2022-06-02T02:44:59.668208Z",
     "start_time": "2022-06-02T02:44:59.654538Z"
    }
   },
   "outputs": [],
   "source": [
    "x_train = data_train_s[:round((len(data_train_s)*0.7))]\n",
    "y_train = label_s[:round((len(label_s)*0.7))]\n",
    "x_test = data_train_s[round((len(data_train_s)*0.7)):]\n",
    "y_test = label_s[round((len(label_s)*0.7)):]"
   ]
  },
  {
   "cell_type": "code",
   "execution_count": 13,
   "metadata": {
    "ExecuteTime": {
     "end_time": "2022-06-02T02:44:59.683874Z",
     "start_time": "2022-06-02T02:44:59.670203Z"
    }
   },
   "outputs": [
    {
     "name": "stdout",
     "output_type": "stream",
     "text": [
      "x_train: 29400\n",
      "y_train: 29400\n",
      "x_test: 12600\n",
      "y_test: 12600\n"
     ]
    }
   ],
   "source": [
    "print(f'''x_train: {x_train.shape[0]}\n",
    "y_train: {y_train.shape[0]}\n",
    "x_test: {x_test.shape[0]}\n",
    "y_test: {y_test.shape[0]}''')"
   ]
  },
  {
   "cell_type": "markdown",
   "metadata": {},
   "source": [
    "# Modeling"
   ]
  },
  {
   "cell_type": "markdown",
   "metadata": {},
   "source": [
    "## Visualization Function"
   ]
  },
  {
   "cell_type": "code",
   "execution_count": 14,
   "metadata": {
    "ExecuteTime": {
     "end_time": "2022-06-02T02:44:59.699655Z",
     "start_time": "2022-06-02T02:44:59.685088Z"
    }
   },
   "outputs": [],
   "source": [
    "#Plot Model Accuracy\n",
    "def loss(x):\n",
    "    plt.plot(x.history['accuracy'])\n",
    "    plt.plot(x.history['val_accuracy'])\n",
    "    plt.title('model accuracy')\n",
    "    plt.ylabel('accuracy')\n",
    "    plt.xlabel('epoch')\n",
    "    plt.legend(['train', 'validation'], loc=0)\n",
    "    plt.show()"
   ]
  },
  {
   "cell_type": "code",
   "execution_count": 15,
   "metadata": {
    "ExecuteTime": {
     "end_time": "2022-06-02T02:44:59.714839Z",
     "start_time": "2022-06-02T02:44:59.703156Z"
    }
   },
   "outputs": [],
   "source": [
    "#Plot Learning Rate\n",
    "def loss_lr(x):\n",
    "    plt.plot(x.history['loss'])\n",
    "    plt.plot(x.history['val_loss'])\n",
    "    plt.plot(x.history['lr'])\n",
    "    plt.title('Model loss')\n",
    "    plt.ylabel('Loss')\n",
    "    plt.xlabel('Epochs')\n",
    "    plt.legend(['train', 'test'], loc=0)\n",
    "    plt.show()"
   ]
  },
  {
   "cell_type": "code",
   "execution_count": 16,
   "metadata": {
    "ExecuteTime": {
     "end_time": "2022-06-02T02:44:59.730424Z",
     "start_time": "2022-06-02T02:44:59.720074Z"
    }
   },
   "outputs": [],
   "source": [
    "#Plot the learning Rate vs Loss\n",
    "def lr_plot(x):\n",
    "    lrs = 1e-4 * 10**(tf.range(len(x.history['loss']))/20)\n",
    "    plt.figure(figsize=(10,7))\n",
    "    plt.semilogx(lrs,x.history['loss'])\n",
    "    plt.xlabel(\"Learning Rate\")\n",
    "    plt.ylabel(\"Loss\")\n",
    "    plt.title(\"Learning Rate VS Loss\")"
   ]
  },
  {
   "cell_type": "code",
   "execution_count": 17,
   "metadata": {
    "ExecuteTime": {
     "end_time": "2022-06-02T02:44:59.745897Z",
     "start_time": "2022-06-02T02:44:59.734189Z"
    }
   },
   "outputs": [],
   "source": [
    "def make_confusion_matrix(y_true, y_pred, classes=None, figsize=(10, 10), text_size=15): \n",
    "\n",
    "    # Create the confustion matrix\n",
    "    cm = confusion_matrix(y_true, y_pred)\n",
    "    cm_norm = cm.astype(\"float\") / cm.sum(axis=1)[:, np.newaxis]\n",
    "    n_classes = cm.shape[0]\n",
    "\n",
    "    # Plot the figure\n",
    "    fig, ax = plt.subplots(figsize=figsize)\n",
    "    cax = ax.matshow(cm, cmap=plt.cm.Blues) #darker == better\n",
    "    fig.colorbar(cax)\n",
    "\n",
    "    if classes:\n",
    "        labels = classes\n",
    "    else:\n",
    "        labels = np.arange(cm.shape[0])\n",
    "  \n",
    "    # Label the axes\n",
    "    ax.set(title=\"Confusion Matrix\",\n",
    "         xlabel=\"Predicted label\",\n",
    "         ylabel=\"True label\",\n",
    "         xticks=np.arange(n_classes),\n",
    "         yticks=np.arange(n_classes), \n",
    "         xticklabels=labels,\n",
    "         yticklabels=labels)\n",
    "  \n",
    "    #x-axis labels\n",
    "    ax.xaxis.set_label_position(\"bottom\")\n",
    "    ax.xaxis.tick_bottom()\n",
    "\n",
    "    # Set the threshold for different colors\n",
    "    threshold = (cm.max() + cm.min()) / 2.\n",
    "\n",
    "    # Plot the text on each cell\n",
    "    for i, j in itertools.product(range(cm.shape[0]), range(cm.shape[1])):\n",
    "        plt.text(j, i, f\"{cm[i, j]} ({cm_norm[i, j]*100:.1f}%)\",\n",
    "             horizontalalignment=\"center\",\n",
    "             color=\"white\" if cm[i, j] > threshold else \"black\",\n",
    "             size=text_size)"
   ]
  },
  {
   "cell_type": "markdown",
   "metadata": {},
   "source": [
    "## Basic Model"
   ]
  },
  {
   "cell_type": "code",
   "execution_count": 66,
   "metadata": {
    "ExecuteTime": {
     "end_time": "2022-06-02T02:55:12.139844Z",
     "start_time": "2022-06-02T02:55:02.433765Z"
    }
   },
   "outputs": [],
   "source": [
    "#Set Random Seed\n",
    "tf.random.set_seed(42)\n",
    "\n",
    "#Create Model\n",
    "model_1 = tf.keras.Sequential([\n",
    "    tf.keras.layers.Dense(10,\n",
    "                          activation='softmax',\n",
    "                          name=\"output_layer\")\n",
    "],name = 'basic_model')\n",
    "\n",
    "#Compiling Model\n",
    "model_1.compile(loss= tf.keras.losses.SparseCategoricalCrossentropy(),\n",
    "                optimizer=tf.keras.optimizers.Adam(),\n",
    "                metrics=[\"accuracy\"])\n",
    "\n",
    "#Fitting Model\n",
    "history1 = model_1.fit(x_train,y_train,\n",
    "                       epochs=10, \n",
    "                       validation_split=0.3,\n",
    "                       verbose=0)"
   ]
  },
  {
   "cell_type": "markdown",
   "metadata": {},
   "source": [
    "### Evaluation Data Train"
   ]
  },
  {
   "cell_type": "code",
   "execution_count": 224,
   "metadata": {
    "ExecuteTime": {
     "end_time": "2022-06-02T07:59:36.019913Z",
     "start_time": "2022-06-02T07:59:34.708310Z"
    }
   },
   "outputs": [
    {
     "data": {
      "image/png": "[encoded data removed]",
      "text/plain": [
       "<Figure size 432x288 with 1 Axes>"
      ]
     },
     "metadata": {
      "needs_background": "light"
     },
     "output_type": "display_data"
    },
    {
     "name": "stdout",
     "output_type": "stream",
     "text": [
      "919/919 [==============================] - 1s 1ms/step - loss: 0.2501 - accuracy: 0.9305\n"
     ]
    },
    {
     "data": {
      "text/plain": [
       "[0.25010091066360474, 0.9305441975593567]"
      ]
     },
     "execution_count": 224,
     "metadata": {},
     "output_type": "execute_result"
    }
   ],
   "source": [
    "loss(history1)\n",
    "sc_model1 = model_1.evaluate(x_train,y_train)\n",
    "sc_model1"
   ]
  },
  {
   "cell_type": "markdown",
   "metadata": {},
   "source": [
    "### Evaluation Data Test"
   ]
  },
  {
   "cell_type": "code",
   "execution_count": 225,
   "metadata": {
    "ExecuteTime": {
     "end_time": "2022-06-02T08:00:16.248261Z",
     "start_time": "2022-06-02T08:00:15.701429Z"
    }
   },
   "outputs": [
    {
     "name": "stdout",
     "output_type": "stream",
     "text": [
      "394/394 [==============================] - 0s 1ms/step - loss: 0.2863 - accuracy: 0.9179\n"
     ]
    },
    {
     "data": {
      "text/plain": [
       "[0.2862538695335388, 0.9178571701049805]"
      ]
     },
     "execution_count": 225,
     "metadata": {},
     "output_type": "execute_result"
    }
   ],
   "source": [
    "sc_model1_t = model_1.evaluate(x_test,y_test)\n",
    "sc_model1_t"
   ]
  },
  {
   "cell_type": "markdown",
   "metadata": {},
   "source": [
    "### Weight"
   ]
  },
  {
   "cell_type": "code",
   "execution_count": 239,
   "metadata": {
    "ExecuteTime": {
     "end_time": "2022-06-02T08:17:15.960977Z",
     "start_time": "2022-06-02T08:17:15.950372Z"
    },
    "scrolled": true
   },
   "outputs": [
    {
     "data": {
      "text/plain": [
       "array([[ 0.02861048, -0.01025646, -0.02557759, -0.006175  , -0.08107699,\n",
       "         0.03210682,  0.0417464 ,  0.06475256, -0.04758043, -0.04812451],\n",
       "       [-0.0329656 ,  0.03865492, -0.06377345,  0.0083563 ,  0.01297136,\n",
       "         0.06948828, -0.0852838 ,  0.00369113,  0.02339167, -0.05227426],\n",
       "       [ 0.03988699,  0.00796872, -0.06822798,  0.03072181,  0.02786536,\n",
       "        -0.02834752,  0.0176323 , -0.05031011,  0.06132627, -0.01032341],\n",
       "       [ 0.07798023, -0.04563329,  0.05420778,  0.00457933, -0.0009896 ,\n",
       "        -0.04935341,  0.06010623,  0.06465513, -0.03331364,  0.03247739],\n",
       "       [-0.04561339,  0.04897984,  0.08121588, -0.07498479,  0.05193832,\n",
       "         0.02786724,  0.01515197, -0.05830912,  0.04139606, -0.03120053]],\n",
       "      dtype=float32)"
      ]
     },
     "execution_count": 239,
     "metadata": {},
     "output_type": "execute_result"
    }
   ],
   "source": [
    "#5 first weight\n",
    "model_1.layers[0].get_weights()[0][:5]"
   ]
  },
  {
   "cell_type": "markdown",
   "metadata": {},
   "source": [
    "### Bias"
   ]
  },
  {
   "cell_type": "code",
   "execution_count": 240,
   "metadata": {
    "ExecuteTime": {
     "end_time": "2022-06-02T08:17:45.837186Z",
     "start_time": "2022-06-02T08:17:45.827807Z"
    },
    "scrolled": true
   },
   "outputs": [
    {
     "data": {
      "text/plain": [
       "array([-0.2549661 ,  0.44389713,  0.05706877, -0.23941413,  0.08370189,\n",
       "        0.61794555, -0.0064534 ,  0.36305588, -0.83284235, -0.14790612],\n",
       "      dtype=float32)"
      ]
     },
     "execution_count": 240,
     "metadata": {},
     "output_type": "execute_result"
    }
   ],
   "source": [
    "model_1.layers[0].get_weights()[1]"
   ]
  },
  {
   "cell_type": "markdown",
   "metadata": {},
   "source": [
    "## Determine Batch"
   ]
  },
  {
   "cell_type": "markdown",
   "metadata": {},
   "source": [
    "### Batch Size = 64"
   ]
  },
  {
   "cell_type": "code",
   "execution_count": 74,
   "metadata": {
    "ExecuteTime": {
     "end_time": "2022-06-02T03:08:43.603104Z",
     "start_time": "2022-06-02T03:08:37.282627Z"
    }
   },
   "outputs": [],
   "source": [
    "#Set Random Seed\n",
    "tf.random.set_seed(42)\n",
    "\n",
    "#Create Model\n",
    "model_1b = tf.keras.Sequential([\n",
    "    tf.keras.layers.Dense(10,\n",
    "                          activation='softmax',\n",
    "                          name=\"output_layer\")\n",
    "],name = 'batch_size_64')\n",
    "\n",
    "#Compiling Model\n",
    "model_1b.compile(loss= tf.keras.losses.SparseCategoricalCrossentropy(),\n",
    "                 optimizer=tf.keras.optimizers.Adam(),\n",
    "                 metrics=[\"accuracy\"])\n",
    "\n",
    "#Fitting Model\n",
    "history1b = model_1b.fit(x_train,y_train,\n",
    "                         epochs=10, \n",
    "                         batch_size=64 ,\n",
    "                         validation_split=0.3,\n",
    "                         verbose=0)"
   ]
  },
  {
   "cell_type": "code",
   "execution_count": 75,
   "metadata": {
    "ExecuteTime": {
     "end_time": "2022-06-02T03:08:45.134685Z",
     "start_time": "2022-06-02T03:08:43.606150Z"
    }
   },
   "outputs": [
    {
     "data": {
      "image/png": "[encoded data removed]",
      "text/plain": [
       "<Figure size 432x288 with 1 Axes>"
      ]
     },
     "metadata": {
      "needs_background": "light"
     },
     "output_type": "display_data"
    },
    {
     "name": "stdout",
     "output_type": "stream",
     "text": [
      "919/919 [==============================] - 1s 1ms/step - loss: 0.2627 - accuracy: 0.9276\n"
     ]
    },
    {
     "data": {
      "text/plain": [
       "[0.26268118619918823, 0.9275850057601929]"
      ]
     },
     "execution_count": 75,
     "metadata": {},
     "output_type": "execute_result"
    }
   ],
   "source": [
    "loss(history1b)\n",
    "model_1b.evaluate(x_train,y_train)"
   ]
  },
  {
   "cell_type": "markdown",
   "metadata": {},
   "source": [
    "### Batch Size = 96"
   ]
  },
  {
   "cell_type": "code",
   "execution_count": 22,
   "metadata": {
    "ExecuteTime": {
     "end_time": "2022-06-02T02:45:24.137883Z",
     "start_time": "2022-06-02T02:45:19.554895Z"
    }
   },
   "outputs": [],
   "source": [
    "#Set Random Seed\n",
    "tf.random.set_seed(42)\n",
    "\n",
    "#Create Model\n",
    "model_1c = tf.keras.Sequential([\n",
    "    tf.keras.layers.Dense(10, activation='softmax',name=\"output_layer\")\n",
    "],name = 'batch_size_96')\n",
    "\n",
    "#Compiling Model\n",
    "model_1c.compile(loss= tf.keras.losses.SparseCategoricalCrossentropy(),\n",
    "                 optimizer=tf.keras.optimizers.Adam(),\n",
    "                 metrics=[\"accuracy\"])\n",
    "\n",
    "#Fitting Model\n",
    "history1c = model_1c.fit(x_train,y_train,\n",
    "                         epochs=10, \n",
    "                         batch_size=96 ,\n",
    "                         validation_split=0.3,\n",
    "                         verbose=0)"
   ]
  },
  {
   "cell_type": "code",
   "execution_count": 23,
   "metadata": {
    "ExecuteTime": {
     "end_time": "2022-06-02T02:45:25.540588Z",
     "start_time": "2022-06-02T02:45:24.138375Z"
    }
   },
   "outputs": [
    {
     "data": {
      "image/png": "[encoded data removed]",
      "text/plain": [
       "<Figure size 432x288 with 1 Axes>"
      ]
     },
     "metadata": {
      "needs_background": "light"
     },
     "output_type": "display_data"
    },
    {
     "name": "stdout",
     "output_type": "stream",
     "text": [
      "919/919 [==============================] - 1s 1ms/step - loss: 0.2738 - accuracy: 0.9244\n"
     ]
    },
    {
     "data": {
      "text/plain": [
       "[0.27376988530158997, 0.9243537187576294]"
      ]
     },
     "execution_count": 23,
     "metadata": {},
     "output_type": "execute_result"
    }
   ],
   "source": [
    "loss(history1c)\n",
    "model_1c.evaluate(x_train,y_train)"
   ]
  },
  {
   "cell_type": "markdown",
   "metadata": {},
   "source": [
    "## Increase Epochs"
   ]
  },
  {
   "cell_type": "code",
   "execution_count": 24,
   "metadata": {
    "ExecuteTime": {
     "end_time": "2022-06-02T02:45:36.702081Z",
     "start_time": "2022-06-02T02:45:25.542590Z"
    }
   },
   "outputs": [],
   "source": [
    "#Set Random Seed\n",
    "tf.random.set_seed(42)\n",
    "\n",
    "#Create Model\n",
    "model_2 = tf.keras.Sequential([\n",
    "    tf.keras.layers.Dense(10, \n",
    "                          activation='softmax',\n",
    "                          name=\"output_layer\")\n",
    "],name = 'increase_epochs')\n",
    "\n",
    "#Compiling Model\n",
    "model_2.compile(loss= tf.keras.losses.SparseCategoricalCrossentropy(),\n",
    "                optimizer=tf.keras.optimizers.Adam(),\n",
    "                metrics=[\"accuracy\"])\n",
    "#Callbacks\n",
    "callback = tf.keras.callbacks.EarlyStopping(monitor='val_accuracy', patience=5)\n",
    "\n",
    "#Fitting Model\n",
    "history2 = model_2.fit(x_train,y_train,\n",
    "                       epochs=100, \n",
    "                       callbacks=[callback], \n",
    "                       batch_size = 96, \n",
    "                       validation_split=0.3,\n",
    "                       verbose=0)"
   ]
  },
  {
   "cell_type": "code",
   "execution_count": 25,
   "metadata": {
    "ExecuteTime": {
     "end_time": "2022-06-02T02:45:38.099176Z",
     "start_time": "2022-06-02T02:45:36.702586Z"
    }
   },
   "outputs": [
    {
     "data": {
      "image/png": "[encoded data removed]",
      "text/plain": [
       "<Figure size 432x288 with 1 Axes>"
      ]
     },
     "metadata": {
      "needs_background": "light"
     },
     "output_type": "display_data"
    },
    {
     "name": "stdout",
     "output_type": "stream",
     "text": [
      "919/919 [==============================] - 1s 1ms/step - loss: 0.2431 - accuracy: 0.9330\n"
     ]
    },
    {
     "data": {
      "text/plain": [
       "[0.24308085441589355, 0.9330272078514099]"
      ]
     },
     "execution_count": 25,
     "metadata": {},
     "output_type": "execute_result"
    }
   ],
   "source": [
    "loss(history2)\n",
    "model_2.evaluate(x_train,y_train)"
   ]
  },
  {
   "cell_type": "markdown",
   "metadata": {},
   "source": [
    "## Add Hidden Layer"
   ]
  },
  {
   "cell_type": "code",
   "execution_count": 76,
   "metadata": {
    "ExecuteTime": {
     "end_time": "2022-06-02T03:14:43.257512Z",
     "start_time": "2022-06-02T03:14:25.963011Z"
    }
   },
   "outputs": [],
   "source": [
    "#Set Random Seed\n",
    "tf.random.set_seed(42)\n",
    "\n",
    "#Create Model\n",
    "model_3 = tf.keras.Sequential([\n",
    "    tf.keras.layers.Dense(4,activation='relu',name='hidden1'),\n",
    "    tf.keras.layers.Dense(4,activation='relu',name='hidden2'),\n",
    "    tf.keras.layers.Dense(10, activation='softmax',name=\"output_layer\")\n",
    "],name = 'hidden_layer')\n",
    "\n",
    "#Compiling Model\n",
    "model_3.compile(loss= tf.keras.losses.SparseCategoricalCrossentropy(),\n",
    "                optimizer=tf.keras.optimizers.Adam(),\n",
    "                metrics=[\"accuracy\"])\n",
    "#Callbacks\n",
    "callback = tf.keras.callbacks.EarlyStopping(monitor='val_accuracy', patience=5)\n",
    "\n",
    "#Fitting Model\n",
    "history3 = model_3.fit(x_train,y_train,\n",
    "                       epochs=100, \n",
    "                       callbacks=[callback], \n",
    "                       batch_size = 96, \n",
    "                       validation_split=0.3,\n",
    "                       verbose=0)"
   ]
  },
  {
   "cell_type": "code",
   "execution_count": 77,
   "metadata": {
    "ExecuteTime": {
     "end_time": "2022-06-02T03:14:45.119213Z",
     "start_time": "2022-06-02T03:14:43.258005Z"
    }
   },
   "outputs": [
    {
     "data": {
      "image/png": "[encoded data removed]",
      "text/plain": [
       "<Figure size 432x288 with 1 Axes>"
      ]
     },
     "metadata": {
      "needs_background": "light"
     },
     "output_type": "display_data"
    },
    {
     "name": "stdout",
     "output_type": "stream",
     "text": [
      "919/919 [==============================] - 2s 2ms/step - loss: 0.5456 - accuracy: 0.8357\n"
     ]
    },
    {
     "data": {
      "text/plain": [
       "[0.545629620552063, 0.8357142806053162]"
      ]
     },
     "execution_count": 77,
     "metadata": {},
     "output_type": "execute_result"
    }
   ],
   "source": [
    "loss(history3)\n",
    "model_3.evaluate(x_train,y_train)"
   ]
  },
  {
   "cell_type": "markdown",
   "metadata": {},
   "source": [
    "## Determine Regularizer"
   ]
  },
  {
   "cell_type": "code",
   "execution_count": 78,
   "metadata": {
    "ExecuteTime": {
     "end_time": "2022-06-02T03:16:49.231077Z",
     "start_time": "2022-06-02T03:16:21.533397Z"
    }
   },
   "outputs": [],
   "source": [
    "#Set Random Seed\n",
    "tf.random.set_seed(42)\n",
    "\n",
    "#Create Model\n",
    "model_3a = tf.keras.Sequential([\n",
    "    tf.keras.layers.Dense(4,\n",
    "                          kernel_regularizer=regularizers.l2(0.001),\n",
    "                          activation='relu',\n",
    "                          name='hidden1'),\n",
    "    tf.keras.layers.Dense(4,\n",
    "                          kernel_regularizer=regularizers.l2(0.001),\n",
    "                          activation='relu',\n",
    "                          name='hidden2'),\n",
    "    tf.keras.layers.Dense(10,\n",
    "                          activation='softmax',\n",
    "                          name=\"output_layer\")\n",
    "],name = 'regulizer')\n",
    "\n",
    "#Compiling Model\n",
    "model_3a.compile(loss= tf.keras.losses.SparseCategoricalCrossentropy(),\n",
    "              optimizer=tf.keras.optimizers.Adam(),\n",
    "              metrics=[\"accuracy\"])\n",
    "#Callbacks\n",
    "callback = tf.keras.callbacks.EarlyStopping(monitor='val_accuracy', patience=5)\n",
    "\n",
    "#Fitting Model\n",
    "history3a = model_3a.fit(x_train,y_train,\n",
    "                       epochs=100, \n",
    "                       callbacks=[callback], \n",
    "                       batch_size = 96, \n",
    "                       validation_split=0.3,\n",
    "                       verbose=0)"
   ]
  },
  {
   "cell_type": "code",
   "execution_count": 79,
   "metadata": {
    "ExecuteTime": {
     "end_time": "2022-06-02T03:16:50.823353Z",
     "start_time": "2022-06-02T03:16:49.231077Z"
    }
   },
   "outputs": [
    {
     "data": {
      "image/png": "[encoded data removed]",
      "text/plain": [
       "<Figure size 432x288 with 1 Axes>"
      ]
     },
     "metadata": {
      "needs_background": "light"
     },
     "output_type": "display_data"
    },
    {
     "name": "stdout",
     "output_type": "stream",
     "text": [
      "919/919 [==============================] - 1s 1ms/step - loss: 0.5696 - accuracy: 0.8444\n"
     ]
    },
    {
     "data": {
      "text/plain": [
       "[0.5695598721504211, 0.8443537354469299]"
      ]
     },
     "execution_count": 79,
     "metadata": {},
     "output_type": "execute_result"
    }
   ],
   "source": [
    "loss(history3a)\n",
    "model_3a.evaluate(x_train,y_train)"
   ]
  },
  {
   "cell_type": "markdown",
   "metadata": {},
   "source": [
    "## Change Optimizer"
   ]
  },
  {
   "cell_type": "code",
   "execution_count": 80,
   "metadata": {
    "ExecuteTime": {
     "end_time": "2022-06-02T03:19:12.704750Z",
     "start_time": "2022-06-02T03:18:50.913672Z"
    }
   },
   "outputs": [],
   "source": [
    "#Set Random Seed\n",
    "tf.random.set_seed(42)\n",
    "\n",
    "#Create Model\n",
    "model_4 = tf.keras.Sequential([\n",
    "    tf.keras.layers.Dense(4,\n",
    "                          kernel_regularizer=regularizers.l2(0.001),\n",
    "                          activation='relu',\n",
    "                          name='hidden1'),\n",
    "    tf.keras.layers.Dense(4,\n",
    "                          kernel_regularizer=regularizers.l2(0.001),\n",
    "                          activation='relu',\n",
    "                          name='hidden2'),\n",
    "    tf.keras.layers.Dense(10, \n",
    "                          activation='softmax',\n",
    "                          name=\"output_layer\")\n",
    "],name = 'change_optimizer')\n",
    "\n",
    "#Compiling Model\n",
    "model_4.compile(loss= tf.keras.losses.SparseCategoricalCrossentropy(),\n",
    "              optimizer=tf.keras.optimizers.SGD(),\n",
    "              metrics=[\"accuracy\"])\n",
    "#Callbacks\n",
    "callback = tf.keras.callbacks.EarlyStopping(monitor='val_accuracy', patience=5)\n",
    "\n",
    "#Fitting Model\n",
    "history4 = model_4.fit(x_train,y_train,\n",
    "                       epochs=100, \n",
    "                       callbacks=[callback], \n",
    "                       batch_size=96, \n",
    "                       validation_split=0.3,\n",
    "                       verbose=0)"
   ]
  },
  {
   "cell_type": "code",
   "execution_count": 81,
   "metadata": {
    "ExecuteTime": {
     "end_time": "2022-06-02T03:19:14.229147Z",
     "start_time": "2022-06-02T03:19:12.705265Z"
    }
   },
   "outputs": [
    {
     "data": {
      "image/png": "[encoded data removed]",
      "text/plain": [
       "<Figure size 432x288 with 1 Axes>"
      ]
     },
     "metadata": {
      "needs_background": "light"
     },
     "output_type": "display_data"
    },
    {
     "name": "stdout",
     "output_type": "stream",
     "text": [
      "919/919 [==============================] - 1s 1ms/step - loss: 0.6558 - accuracy: 0.8045\n"
     ]
    },
    {
     "data": {
      "text/plain": [
       "[0.6557914614677429, 0.80448979139328]"
      ]
     },
     "execution_count": 81,
     "metadata": {},
     "output_type": "execute_result"
    }
   ],
   "source": [
    "loss(history4)\n",
    "model_4.evaluate(x_train,y_train)"
   ]
  },
  {
   "cell_type": "markdown",
   "metadata": {},
   "source": [
    "## Adjust Learning Rate"
   ]
  },
  {
   "cell_type": "markdown",
   "metadata": {},
   "source": [
    "### Determine Learning Rate"
   ]
  },
  {
   "cell_type": "code",
   "execution_count": 82,
   "metadata": {
    "ExecuteTime": {
     "end_time": "2022-06-02T03:20:54.383335Z",
     "start_time": "2022-06-02T03:20:12.015259Z"
    }
   },
   "outputs": [],
   "source": [
    "#Set Random Seed\n",
    "tf.random.set_seed(42)\n",
    "\n",
    "#Create Model\n",
    "model_5 = tf.keras.Sequential([\n",
    "    tf.keras.layers.Dense(4,\n",
    "                          kernel_regularizer=regularizers.l2(0.001),\n",
    "                          activation='relu',\n",
    "                          name='hidden1'),\n",
    "    tf.keras.layers.Dense(4,\n",
    "                          kernel_regularizer=regularizers.l2(0.001),\n",
    "                          activation='relu',\n",
    "                          name='hidden2'),\n",
    "    tf.keras.layers.Dense(10,\n",
    "                          activation='softmax',\n",
    "                          name=\"output_layer\")\n",
    "],name = 'learning_rate')\n",
    "\n",
    "#Compiling Model\n",
    "model_5.compile(loss= tf.keras.losses.SparseCategoricalCrossentropy(),\n",
    "                optimizer=tf.keras.optimizers.Adam(),\n",
    "                metrics=[\"accuracy\"])\n",
    "\n",
    "# #Callbacks\n",
    "lr_scheduler = tf.keras.callbacks.LearningRateScheduler(lambda epoch: 1e-4 * 10**(epoch/20))\n",
    "\n",
    "#Fitting Model\n",
    "history5 = model_5.fit(x_train,y_train,\n",
    "                       epochs=100, \n",
    "                       callbacks=[lr_scheduler], \n",
    "                       batch_size = 96,\n",
    "                       validation_split=0.3,\n",
    "                       verbose=0)"
   ]
  },
  {
   "cell_type": "code",
   "execution_count": 83,
   "metadata": {
    "ExecuteTime": {
     "end_time": "2022-06-02T03:20:54.681010Z",
     "start_time": "2022-06-02T03:20:54.385325Z"
    }
   },
   "outputs": [
    {
     "data": {
      "image/png": "[encoded data removed]",
      "text/plain": [
       "<Figure size 432x288 with 1 Axes>"
      ]
     },
     "metadata": {
      "needs_background": "light"
     },
     "output_type": "display_data"
    }
   ],
   "source": [
    "loss(history5)"
   ]
  },
  {
   "cell_type": "code",
   "execution_count": 84,
   "metadata": {
    "ExecuteTime": {
     "end_time": "2022-06-02T03:20:55.432793Z",
     "start_time": "2022-06-02T03:20:54.683516Z"
    }
   },
   "outputs": [
    {
     "data": {
      "image/png": "[encoded data removed]",
      "text/plain": [
       "<Figure size 720x504 with 1 Axes>"
      ]
     },
     "metadata": {
      "needs_background": "light"
     },
     "output_type": "display_data"
    }
   ],
   "source": [
    "lr_plot(history5)"
   ]
  },
  {
   "cell_type": "markdown",
   "metadata": {},
   "source": [
    "### Set LR = 0.002"
   ]
  },
  {
   "cell_type": "code",
   "execution_count": 88,
   "metadata": {
    "ExecuteTime": {
     "end_time": "2022-06-02T03:22:17.147985Z",
     "start_time": "2022-06-02T03:21:55.590428Z"
    }
   },
   "outputs": [],
   "source": [
    "#Set Random Seed\n",
    "tf.random.set_seed(42)\n",
    "\n",
    "#Create Model\n",
    "model_6 = tf.keras.Sequential([\n",
    "    tf.keras.layers.Dense(4,\n",
    "                          kernel_regularizer=regularizers.l2(0.001),\n",
    "                          activation='relu',\n",
    "                          name='hidden1'),\n",
    "    tf.keras.layers.Dense(4,\n",
    "                          kernel_regularizer=regularizers.l2(0.001),\n",
    "                          activation='relu',\n",
    "                          name='hidden2'),\n",
    "    tf.keras.layers.Dense(10,\n",
    "                          activation='softmax',\n",
    "                          name=\"output_layer\")\n",
    "],name = 'lr_0002')\n",
    "\n",
    "#Compiling Model\n",
    "model_6.compile(loss= tf.keras.losses.SparseCategoricalCrossentropy(),\n",
    "                optimizer=tf.keras.optimizers.Adam(learning_rate = 0.002),\n",
    "                metrics=[\"accuracy\"])\n",
    "#Callbacks\n",
    "callback = tf.keras.callbacks.EarlyStopping(monitor='val_accuracy', patience=5)\n",
    "\n",
    "#Fitting Model\n",
    "history6 = model_6.fit(x_train,y_train,\n",
    "                       epochs=100, \n",
    "                       callbacks=[callback],\n",
    "                       batch_size=96, \n",
    "                       validation_split=0.3,\n",
    "                       verbose=0)"
   ]
  },
  {
   "cell_type": "code",
   "execution_count": 89,
   "metadata": {
    "ExecuteTime": {
     "end_time": "2022-06-02T03:22:18.685319Z",
     "start_time": "2022-06-02T03:22:17.148482Z"
    }
   },
   "outputs": [
    {
     "data": {
      "image/png": "[encoded data removed]",
      "text/plain": [
       "<Figure size 432x288 with 1 Axes>"
      ]
     },
     "metadata": {
      "needs_background": "light"
     },
     "output_type": "display_data"
    },
    {
     "name": "stdout",
     "output_type": "stream",
     "text": [
      "919/919 [==============================] - 1s 1ms/step - loss: 0.5525 - accuracy: 0.8495\n"
     ]
    },
    {
     "data": {
      "text/plain": [
       "[0.5525022149085999, 0.8495237827301025]"
      ]
     },
     "execution_count": 89,
     "metadata": {},
     "output_type": "execute_result"
    }
   ],
   "source": [
    "loss(history6)\n",
    "model_6.evaluate(x_train,y_train)"
   ]
  },
  {
   "cell_type": "markdown",
   "metadata": {},
   "source": [
    "## Model Artificial Neural Network\n",
    "\n",
    "Selected Model: model_6"
   ]
  },
  {
   "cell_type": "markdown",
   "metadata": {},
   "source": [
    "### Evaluation Data Train"
   ]
  },
  {
   "cell_type": "code",
   "execution_count": 222,
   "metadata": {
    "ExecuteTime": {
     "end_time": "2022-06-02T07:56:57.632065Z",
     "start_time": "2022-06-02T07:56:56.435089Z"
    }
   },
   "outputs": [
    {
     "name": "stdout",
     "output_type": "stream",
     "text": [
      "919/919 [==============================] - 1s 1ms/step - loss: 0.5525 - accuracy: 0.8495\n"
     ]
    },
    {
     "data": {
      "text/plain": [
       "[0.5525022149085999, 0.8495237827301025]"
      ]
     },
     "execution_count": 222,
     "metadata": {},
     "output_type": "execute_result"
    }
   ],
   "source": [
    "sc_model6= model_6.evaluate(x_train,y_train)\n",
    "sc_model6"
   ]
  },
  {
   "cell_type": "markdown",
   "metadata": {},
   "source": [
    "### Evaluation Data Test"
   ]
  },
  {
   "cell_type": "code",
   "execution_count": 223,
   "metadata": {
    "ExecuteTime": {
     "end_time": "2022-06-02T07:58:24.200487Z",
     "start_time": "2022-06-02T07:58:23.643171Z"
    }
   },
   "outputs": [
    {
     "name": "stdout",
     "output_type": "stream",
     "text": [
      "394/394 [==============================] - 1s 1ms/step - loss: 0.6027 - accuracy: 0.8321\n"
     ]
    },
    {
     "data": {
      "text/plain": [
       "[0.6026783585548401, 0.8321428298950195]"
      ]
     },
     "execution_count": 223,
     "metadata": {},
     "output_type": "execute_result"
    }
   ],
   "source": [
    "sc_model6_t= model_6.evaluate(x_test,y_test)\n",
    "sc_model6_t"
   ]
  },
  {
   "cell_type": "markdown",
   "metadata": {},
   "source": [
    "### Prediction Data Test"
   ]
  },
  {
   "cell_type": "code",
   "execution_count": 92,
   "metadata": {
    "ExecuteTime": {
     "end_time": "2022-06-02T03:22:46.805092Z",
     "start_time": "2022-06-02T03:22:46.387082Z"
    },
    "code_folding": []
   },
   "outputs": [
    {
     "data": {
      "text/plain": [
       "array([[2.7161695e-05, 7.3224213e-12, 2.7028698e-05, 1.3276123e-11,\n",
       "        5.0012721e-07, 2.4122737e-06, 9.9994230e-01, 1.0385236e-21,\n",
       "        5.8310258e-07, 6.1591891e-11],\n",
       "       [7.6261284e-05, 4.6312731e-08, 6.4295741e-06, 1.1850408e-05,\n",
       "        9.7195733e-01, 1.4949579e-03, 2.9147638e-04, 2.9453138e-04,\n",
       "        1.2679220e-05, 2.5854470e-02],\n",
       "       [1.0787082e-02, 9.6514076e-01, 6.2265750e-03, 7.2488689e-04,\n",
       "        2.3216708e-06, 2.2247435e-04, 3.6818619e-05, 7.9080935e-05,\n",
       "        1.5924700e-02, 8.5515244e-04],\n",
       "       [3.8829842e-07, 1.0084974e-05, 9.6908826e-01, 2.2667218e-02,\n",
       "        5.1027433e-07, 2.1305783e-03, 5.3274925e-03, 2.0106102e-14,\n",
       "        7.7537738e-04, 4.4716852e-08],\n",
       "       [1.2344127e-06, 5.5642740e-05, 9.7100621e-01, 2.0666759e-02,\n",
       "        1.9255906e-06, 1.7936868e-03, 5.6159436e-03, 1.4860647e-12,\n",
       "        8.5837604e-04, 2.8693114e-07]], dtype=float32)"
      ]
     },
     "execution_count": 92,
     "metadata": {},
     "output_type": "execute_result"
    }
   ],
   "source": [
    "#Probability\n",
    "y_probs_nn = model_6.predict(x_test)\n",
    "y_probs_nn[:5]"
   ]
  },
  {
   "cell_type": "code",
   "execution_count": 93,
   "metadata": {
    "ExecuteTime": {
     "end_time": "2022-06-02T03:22:58.498067Z",
     "start_time": "2022-06-02T03:22:58.486315Z"
    }
   },
   "outputs": [
    {
     "data": {
      "text/plain": [
       "array([6, 4, 1, 2, 2, 9, 7, 0, 3, 5], dtype=int64)"
      ]
     },
     "execution_count": 93,
     "metadata": {},
     "output_type": "execute_result"
    }
   ],
   "source": [
    "#Prediction\n",
    "y_preds_nn = y_probs_nn.argmax(axis=1)\n",
    "y_preds_nn[:10]"
   ]
  },
  {
   "cell_type": "markdown",
   "metadata": {},
   "source": [
    "### Evaluation Matrix"
   ]
  },
  {
   "cell_type": "code",
   "execution_count": 94,
   "metadata": {
    "ExecuteTime": {
     "end_time": "2022-06-02T03:23:03.421829Z",
     "start_time": "2022-06-02T03:23:01.993695Z"
    }
   },
   "outputs": [
    {
     "data": {
      "image/png": "[encoded data removed]",
      "text/plain": [
       "<Figure size 1080x1080 with 2 Axes>"
      ]
     },
     "metadata": {
      "needs_background": "light"
     },
     "output_type": "display_data"
    }
   ],
   "source": [
    "class_name = [0,1,2,3,4,5,6,7,8,9]\n",
    "\n",
    "make_confusion_matrix(y_true=y_test, \n",
    "                      y_pred=y_preds_nn,\n",
    "                      classes=class_name,\n",
    "                      figsize=(15, 15),\n",
    "                      text_size=10)"
   ]
  },
  {
   "cell_type": "markdown",
   "metadata": {},
   "source": [
    "## Model Summary"
   ]
  },
  {
   "cell_type": "code",
   "execution_count": 218,
   "metadata": {
    "ExecuteTime": {
     "end_time": "2022-06-02T07:29:01.688756Z",
     "start_time": "2022-06-02T07:29:01.660611Z"
    }
   },
   "outputs": [
    {
     "name": "stdout",
     "output_type": "stream",
     "text": [
      "Model: \"lr_0002\"\n",
      "_________________________________________________________________\n",
      " Layer (type)                Output Shape              Param #   \n",
      "=================================================================\n",
      " hidden1 (Dense)             (None, 4)                 3140      \n",
      "                                                                 \n",
      " hidden2 (Dense)             (None, 4)                 20        \n",
      "                                                                 \n",
      " output_layer (Dense)        (None, 10)                50        \n",
      "                                                                 \n",
      "=================================================================\n",
      "Total params: 3,210\n",
      "Trainable params: 3,210\n",
      "Non-trainable params: 0\n",
      "_________________________________________________________________\n"
     ]
    }
   ],
   "source": [
    "model_6.summary()"
   ]
  },
  {
   "cell_type": "markdown",
   "metadata": {},
   "source": [
    "# Hyperparameter Tuning"
   ]
  },
  {
   "cell_type": "markdown",
   "metadata": {},
   "source": [
    "## Create Model"
   ]
  },
  {
   "cell_type": "code",
   "execution_count": 110,
   "metadata": {
    "ExecuteTime": {
     "end_time": "2022-06-02T03:30:58.028353Z",
     "start_time": "2022-06-02T03:30:58.009693Z"
    }
   },
   "outputs": [],
   "source": [
    "def model_builder(hp):\n",
    "    tf.random.set_seed(42)\n",
    "    model = keras.Sequential(name='model_tuning')\n",
    "\n",
    "    # Tune the number of units in the first Dense layer\n",
    "    hp_units = hp.Int('units', min_value=4, max_value=8, step=1)\n",
    "    \n",
    "    model.add(keras.layers.Dense(units=hp_units,\n",
    "                                 kernel_regularizer=regularizers.l2(0.001),\n",
    "                                 activation='relu',\n",
    "                                 name=\"hidden_1\"))\n",
    "    model.add(keras.layers.Dense(units=hp_units,\n",
    "                                 kernel_regularizer=regularizers.l2(0.001),\n",
    "                                 activation='relu', \n",
    "                                 name = 'hidden_2'))\n",
    "    model.add(keras.layers.Dense(10,\n",
    "                                 name=\"output_layer\",\n",
    "                                 activation='softmax'))\n",
    "    \n",
    "    #Compile Model\n",
    "    model.compile(optimizer=keras.optimizers.Adam(learning_rate=0.002),\n",
    "                  loss=tf.keras.losses.SparseCategoricalCrossentropy(),\n",
    "                  metrics=['accuracy'])\n",
    "\n",
    "    return model"
   ]
  },
  {
   "cell_type": "code",
   "execution_count": 111,
   "metadata": {
    "ExecuteTime": {
     "end_time": "2022-06-02T03:31:02.966066Z",
     "start_time": "2022-06-02T03:31:02.929699Z"
    }
   },
   "outputs": [],
   "source": [
    "tuner = kt.Hyperband(model_builder,\n",
    "                     objective='val_accuracy',\n",
    "                     max_epochs=100,\n",
    "                     factor=5,\n",
    "                     seed = 46,\n",
    "                     project_name=\"Classification Tuner\")\n",
    "\n",
    "stop_early = tf.keras.callbacks.EarlyStopping(monitor='val_accuracy', patience=5)"
   ]
  },
  {
   "cell_type": "code",
   "execution_count": 112,
   "metadata": {
    "ExecuteTime": {
     "end_time": "2022-06-02T03:31:21.867235Z",
     "start_time": "2022-06-02T03:31:04.778105Z"
    }
   },
   "outputs": [
    {
     "name": "stdout",
     "output_type": "stream",
     "text": [
      "Trial 5 Complete [00h 00m 03s]\n",
      "val_accuracy: 0.8878684639930725\n",
      "\n",
      "Best val_accuracy So Far: 0.9028344750404358\n",
      "Total elapsed time: 00h 00m 17s\n",
      "INFO:tensorflow:Oracle triggered exit\n"
     ]
    }
   ],
   "source": [
    "tuner.search(x_train,y_train, \n",
    "             epochs=100, \n",
    "             validation_split=0.3,\n",
    "             batch_size=96,\n",
    "             callbacks=[stop_early])"
   ]
  },
  {
   "cell_type": "markdown",
   "metadata": {},
   "source": [
    "## Evaluation"
   ]
  },
  {
   "cell_type": "code",
   "execution_count": 113,
   "metadata": {
    "ExecuteTime": {
     "end_time": "2022-06-02T03:31:27.375250Z",
     "start_time": "2022-06-02T03:31:27.359620Z"
    }
   },
   "outputs": [
    {
     "name": "stdout",
     "output_type": "stream",
     "text": [
      "Results summary\n",
      "Results in .\\Classification Tuner\n",
      "Showing 10 best trials\n",
      "<keras_tuner.engine.objective.Objective object at 0x000001B05E2893A0>\n",
      "Trial summary\n",
      "Hyperparameters:\n",
      "units: 8\n",
      "tuner/epochs: 4\n",
      "tuner/initial_epoch: 0\n",
      "tuner/bracket: 2\n",
      "tuner/round: 0\n",
      "Score: 0.9028344750404358\n",
      "Trial summary\n",
      "Hyperparameters:\n",
      "units: 7\n",
      "tuner/epochs: 4\n",
      "tuner/initial_epoch: 0\n",
      "tuner/bracket: 2\n",
      "tuner/round: 0\n",
      "Score: 0.8878684639930725\n",
      "Trial summary\n",
      "Hyperparameters:\n",
      "units: 5\n",
      "tuner/epochs: 4\n",
      "tuner/initial_epoch: 0\n",
      "tuner/bracket: 2\n",
      "tuner/round: 0\n",
      "Score: 0.8611111044883728\n",
      "Trial summary\n",
      "Hyperparameters:\n",
      "units: 6\n",
      "tuner/epochs: 4\n",
      "tuner/initial_epoch: 0\n",
      "tuner/bracket: 2\n",
      "tuner/round: 0\n",
      "Score: 0.8162131309509277\n",
      "Trial summary\n",
      "Hyperparameters:\n",
      "units: 4\n",
      "tuner/epochs: 4\n",
      "tuner/initial_epoch: 0\n",
      "tuner/bracket: 2\n",
      "tuner/round: 0\n",
      "Score: 0.7623582482337952\n"
     ]
    }
   ],
   "source": [
    "tuner.results_summary()"
   ]
  },
  {
   "cell_type": "code",
   "execution_count": 114,
   "metadata": {
    "ExecuteTime": {
     "end_time": "2022-06-02T03:31:46.553050Z",
     "start_time": "2022-06-02T03:31:33.997832Z"
    }
   },
   "outputs": [
    {
     "data": {
      "image/png": "[encoded data removed]",
      "text/plain": [
       "<Figure size 432x288 with 1 Axes>"
      ]
     },
     "metadata": {
      "needs_background": "light"
     },
     "output_type": "display_data"
    }
   ],
   "source": [
    "best_hps=tuner.get_best_hyperparameters(num_trials=1)[0]\n",
    "model = tuner.hypermodel.build(best_hps)\n",
    "\n",
    "history_nn_tun = model.fit(x_train,y_train,\n",
    "                           epochs=100,\n",
    "                           validation_split=0.3,\n",
    "                           batch_size=96,\n",
    "                           callbacks=[stop_early],\n",
    "                           verbose = 0)\n",
    "loss(history_nn_tun)"
   ]
  },
  {
   "cell_type": "markdown",
   "metadata": {},
   "source": [
    "### Evaluation Data Train"
   ]
  },
  {
   "cell_type": "code",
   "execution_count": 227,
   "metadata": {
    "ExecuteTime": {
     "end_time": "2022-06-02T08:03:33.911340Z",
     "start_time": "2022-06-02T08:03:32.755292Z"
    }
   },
   "outputs": [
    {
     "name": "stdout",
     "output_type": "stream",
     "text": [
      "919/919 [==============================] - 1s 1ms/step - loss: 0.2904 - accuracy: 0.9336\n"
     ]
    },
    {
     "data": {
      "text/plain": [
       "[0.29041844606399536, 0.933605432510376]"
      ]
     },
     "execution_count": 227,
     "metadata": {},
     "output_type": "execute_result"
    }
   ],
   "source": [
    "sc_model = model.evaluate(x_train,y_train)\n",
    "sc_model"
   ]
  },
  {
   "cell_type": "markdown",
   "metadata": {},
   "source": [
    "### Evaluation Data Test"
   ]
  },
  {
   "cell_type": "code",
   "execution_count": 226,
   "metadata": {
    "ExecuteTime": {
     "end_time": "2022-06-02T08:03:14.853812Z",
     "start_time": "2022-06-02T08:03:14.315354Z"
    }
   },
   "outputs": [
    {
     "name": "stdout",
     "output_type": "stream",
     "text": [
      "394/394 [==============================] - 0s 1ms/step - loss: 0.3416 - accuracy: 0.9179\n"
     ]
    },
    {
     "data": {
      "text/plain": [
       "[0.3415677845478058, 0.9178571701049805]"
      ]
     },
     "execution_count": 226,
     "metadata": {},
     "output_type": "execute_result"
    }
   ],
   "source": [
    "sc_model_t = model.evaluate(x_test,y_test)\n",
    "sc_model_t"
   ]
  },
  {
   "cell_type": "markdown",
   "metadata": {},
   "source": [
    "### Prediction Data Test"
   ]
  },
  {
   "cell_type": "code",
   "execution_count": 116,
   "metadata": {
    "ExecuteTime": {
     "end_time": "2022-06-02T03:32:24.605978Z",
     "start_time": "2022-06-02T03:32:24.210588Z"
    }
   },
   "outputs": [
    {
     "data": {
      "text/plain": [
       "array([[2.79380341e-09, 4.30528348e-14, 8.33999002e-06, 3.70602521e-10,\n",
       "        2.06111326e-06, 1.45015342e-08, 9.99988437e-01, 1.30094057e-16,\n",
       "        1.20924301e-06, 3.98633279e-11],\n",
       "       [9.08178845e-06, 2.99904883e-08, 1.77978116e-04, 2.58212385e-04,\n",
       "        9.88926768e-01, 1.60187483e-03, 7.46788282e-04, 6.70668160e-05,\n",
       "        1.21282646e-03, 6.99944794e-03],\n",
       "       [5.07207858e-08, 9.97331619e-01, 1.31282286e-04, 1.92510735e-04,\n",
       "        3.59028185e-08, 6.44335305e-05, 1.32904694e-04, 2.69560860e-06,\n",
       "        2.13996624e-03, 4.48203127e-06],\n",
       "       [2.27478210e-07, 4.56438056e-13, 9.99988437e-01, 7.52942015e-07,\n",
       "        2.22132358e-15, 1.92347860e-10, 1.05883992e-05, 1.38934459e-12,\n",
       "        3.58835663e-08, 9.26612693e-12],\n",
       "       [1.12594776e-07, 9.11448197e-08, 9.99072671e-01, 9.26381326e-04,\n",
       "        9.36373917e-14, 4.56713245e-08, 5.75722368e-07, 2.12591078e-09,\n",
       "        1.67774687e-07, 2.26547656e-10]], dtype=float32)"
      ]
     },
     "execution_count": 116,
     "metadata": {},
     "output_type": "execute_result"
    }
   ],
   "source": [
    "#Probability\n",
    "y_probs_nn = model.predict(x_test)\n",
    "y_probs_nn[:5]"
   ]
  },
  {
   "cell_type": "code",
   "execution_count": 117,
   "metadata": {
    "ExecuteTime": {
     "end_time": "2022-06-02T03:32:26.838867Z",
     "start_time": "2022-06-02T03:32:26.828674Z"
    }
   },
   "outputs": [
    {
     "data": {
      "text/plain": [
       "array([6, 4, 1, 2, 2, 9, 7, 6, 3, 5], dtype=int64)"
      ]
     },
     "execution_count": 117,
     "metadata": {},
     "output_type": "execute_result"
    }
   ],
   "source": [
    "#Prediction\n",
    "y_preds_nn = y_probs_nn.argmax(axis=1)\n",
    "y_preds_nn[:10]"
   ]
  },
  {
   "cell_type": "markdown",
   "metadata": {},
   "source": [
    "## Evaluation Matrix"
   ]
  },
  {
   "cell_type": "code",
   "execution_count": 118,
   "metadata": {
    "ExecuteTime": {
     "end_time": "2022-06-02T03:32:45.903526Z",
     "start_time": "2022-06-02T03:32:44.578785Z"
    }
   },
   "outputs": [
    {
     "data": {
      "image/png": "[encoded data removed]",
      "text/plain": [
       "<Figure size 1080x1080 with 2 Axes>"
      ]
     },
     "metadata": {
      "needs_background": "light"
     },
     "output_type": "display_data"
    }
   ],
   "source": [
    "class_name = [0,1,2,3,4,5,6,7,8,9]\n",
    "\n",
    "make_confusion_matrix(y_true=y_test, \n",
    "                      y_pred=y_preds_nn,\n",
    "                      classes=class_name,\n",
    "                      figsize=(15, 15),\n",
    "                      text_size=10)"
   ]
  },
  {
   "cell_type": "markdown",
   "metadata": {},
   "source": [
    "## Model Summary"
   ]
  },
  {
   "cell_type": "code",
   "execution_count": 215,
   "metadata": {
    "ExecuteTime": {
     "end_time": "2022-06-02T07:26:31.091289Z",
     "start_time": "2022-06-02T07:26:31.069370Z"
    },
    "scrolled": true
   },
   "outputs": [
    {
     "name": "stdout",
     "output_type": "stream",
     "text": [
      "Model: \"tuning\"\n",
      "_________________________________________________________________\n",
      " Layer (type)                Output Shape              Param #   \n",
      "=================================================================\n",
      " hidden_1 (Dense)            (None, 8)                 6280      \n",
      "                                                                 \n",
      " hidden_2 (Dense)            (None, 8)                 72        \n",
      "                                                                 \n",
      " output_layer (Dense)        (None, 10)                90        \n",
      "                                                                 \n",
      "=================================================================\n",
      "Total params: 6,442\n",
      "Trainable params: 6,442\n",
      "Non-trainable params: 0\n",
      "_________________________________________________________________\n"
     ]
    }
   ],
   "source": [
    "model.summary()"
   ]
  },
  {
   "cell_type": "markdown",
   "metadata": {},
   "source": [
    "# Prediction Data Test"
   ]
  },
  {
   "cell_type": "markdown",
   "metadata": {},
   "source": [
    "## Data Test Sample"
   ]
  },
  {
   "cell_type": "code",
   "execution_count": 126,
   "metadata": {
    "ExecuteTime": {
     "end_time": "2022-06-02T03:36:09.071819Z",
     "start_time": "2022-06-02T03:36:09.006385Z"
    }
   },
   "outputs": [
    {
     "data": {
      "text/html": [
       "<div>\n",
       "<style scoped>\n",
       "    .dataframe tbody tr th:only-of-type {\n",
       "        vertical-align: middle;\n",
       "    }\n",
       "\n",
       "    .dataframe tbody tr th {\n",
       "        vertical-align: top;\n",
       "    }\n",
       "\n",
       "    .dataframe thead th {\n",
       "        text-align: right;\n",
       "    }\n",
       "</style>\n",
       "<table border=\"1\" class=\"dataframe\">\n",
       "  <thead>\n",
       "    <tr style=\"text-align: right;\">\n",
       "      <th></th>\n",
       "      <th>pixel0</th>\n",
       "      <th>pixel1</th>\n",
       "      <th>pixel2</th>\n",
       "      <th>pixel3</th>\n",
       "      <th>pixel4</th>\n",
       "      <th>pixel5</th>\n",
       "      <th>pixel6</th>\n",
       "      <th>pixel7</th>\n",
       "      <th>pixel8</th>\n",
       "      <th>pixel9</th>\n",
       "      <th>...</th>\n",
       "      <th>pixel774</th>\n",
       "      <th>pixel775</th>\n",
       "      <th>pixel776</th>\n",
       "      <th>pixel777</th>\n",
       "      <th>pixel778</th>\n",
       "      <th>pixel779</th>\n",
       "      <th>pixel780</th>\n",
       "      <th>pixel781</th>\n",
       "      <th>pixel782</th>\n",
       "      <th>pixel783</th>\n",
       "    </tr>\n",
       "  </thead>\n",
       "  <tbody>\n",
       "    <tr>\n",
       "      <th>21072</th>\n",
       "      <td>0.0</td>\n",
       "      <td>0.0</td>\n",
       "      <td>0.0</td>\n",
       "      <td>0.0</td>\n",
       "      <td>0.0</td>\n",
       "      <td>0.0</td>\n",
       "      <td>0.0</td>\n",
       "      <td>0.0</td>\n",
       "      <td>0.0</td>\n",
       "      <td>0.0</td>\n",
       "      <td>...</td>\n",
       "      <td>0.0</td>\n",
       "      <td>0.0</td>\n",
       "      <td>0.0</td>\n",
       "      <td>0.0</td>\n",
       "      <td>0.0</td>\n",
       "      <td>0.0</td>\n",
       "      <td>0.0</td>\n",
       "      <td>0.0</td>\n",
       "      <td>0.0</td>\n",
       "      <td>0.0</td>\n",
       "    </tr>\n",
       "    <tr>\n",
       "      <th>12916</th>\n",
       "      <td>0.0</td>\n",
       "      <td>0.0</td>\n",
       "      <td>0.0</td>\n",
       "      <td>0.0</td>\n",
       "      <td>0.0</td>\n",
       "      <td>0.0</td>\n",
       "      <td>0.0</td>\n",
       "      <td>0.0</td>\n",
       "      <td>0.0</td>\n",
       "      <td>0.0</td>\n",
       "      <td>...</td>\n",
       "      <td>0.0</td>\n",
       "      <td>0.0</td>\n",
       "      <td>0.0</td>\n",
       "      <td>0.0</td>\n",
       "      <td>0.0</td>\n",
       "      <td>0.0</td>\n",
       "      <td>0.0</td>\n",
       "      <td>0.0</td>\n",
       "      <td>0.0</td>\n",
       "      <td>0.0</td>\n",
       "    </tr>\n",
       "    <tr>\n",
       "      <th>9565</th>\n",
       "      <td>0.0</td>\n",
       "      <td>0.0</td>\n",
       "      <td>0.0</td>\n",
       "      <td>0.0</td>\n",
       "      <td>0.0</td>\n",
       "      <td>0.0</td>\n",
       "      <td>0.0</td>\n",
       "      <td>0.0</td>\n",
       "      <td>0.0</td>\n",
       "      <td>0.0</td>\n",
       "      <td>...</td>\n",
       "      <td>0.0</td>\n",
       "      <td>0.0</td>\n",
       "      <td>0.0</td>\n",
       "      <td>0.0</td>\n",
       "      <td>0.0</td>\n",
       "      <td>0.0</td>\n",
       "      <td>0.0</td>\n",
       "      <td>0.0</td>\n",
       "      <td>0.0</td>\n",
       "      <td>0.0</td>\n",
       "    </tr>\n",
       "    <tr>\n",
       "      <th>18043</th>\n",
       "      <td>0.0</td>\n",
       "      <td>0.0</td>\n",
       "      <td>0.0</td>\n",
       "      <td>0.0</td>\n",
       "      <td>0.0</td>\n",
       "      <td>0.0</td>\n",
       "      <td>0.0</td>\n",
       "      <td>0.0</td>\n",
       "      <td>0.0</td>\n",
       "      <td>0.0</td>\n",
       "      <td>...</td>\n",
       "      <td>0.0</td>\n",
       "      <td>0.0</td>\n",
       "      <td>0.0</td>\n",
       "      <td>0.0</td>\n",
       "      <td>0.0</td>\n",
       "      <td>0.0</td>\n",
       "      <td>0.0</td>\n",
       "      <td>0.0</td>\n",
       "      <td>0.0</td>\n",
       "      <td>0.0</td>\n",
       "    </tr>\n",
       "    <tr>\n",
       "      <th>17442</th>\n",
       "      <td>0.0</td>\n",
       "      <td>0.0</td>\n",
       "      <td>0.0</td>\n",
       "      <td>0.0</td>\n",
       "      <td>0.0</td>\n",
       "      <td>0.0</td>\n",
       "      <td>0.0</td>\n",
       "      <td>0.0</td>\n",
       "      <td>0.0</td>\n",
       "      <td>0.0</td>\n",
       "      <td>...</td>\n",
       "      <td>0.0</td>\n",
       "      <td>0.0</td>\n",
       "      <td>0.0</td>\n",
       "      <td>0.0</td>\n",
       "      <td>0.0</td>\n",
       "      <td>0.0</td>\n",
       "      <td>0.0</td>\n",
       "      <td>0.0</td>\n",
       "      <td>0.0</td>\n",
       "      <td>0.0</td>\n",
       "    </tr>\n",
       "  </tbody>\n",
       "</table>\n",
       "<p>5 rows × 784 columns</p>\n",
       "</div>"
      ],
      "text/plain": [
       "       pixel0  pixel1  pixel2  pixel3  pixel4  pixel5  pixel6  pixel7  pixel8  \\\n",
       "21072     0.0     0.0     0.0     0.0     0.0     0.0     0.0     0.0     0.0   \n",
       "12916     0.0     0.0     0.0     0.0     0.0     0.0     0.0     0.0     0.0   \n",
       "9565      0.0     0.0     0.0     0.0     0.0     0.0     0.0     0.0     0.0   \n",
       "18043     0.0     0.0     0.0     0.0     0.0     0.0     0.0     0.0     0.0   \n",
       "17442     0.0     0.0     0.0     0.0     0.0     0.0     0.0     0.0     0.0   \n",
       "\n",
       "       pixel9  ...  pixel774  pixel775  pixel776  pixel777  pixel778  \\\n",
       "21072     0.0  ...       0.0       0.0       0.0       0.0       0.0   \n",
       "12916     0.0  ...       0.0       0.0       0.0       0.0       0.0   \n",
       "9565      0.0  ...       0.0       0.0       0.0       0.0       0.0   \n",
       "18043     0.0  ...       0.0       0.0       0.0       0.0       0.0   \n",
       "17442     0.0  ...       0.0       0.0       0.0       0.0       0.0   \n",
       "\n",
       "       pixel779  pixel780  pixel781  pixel782  pixel783  \n",
       "21072       0.0       0.0       0.0       0.0       0.0  \n",
       "12916       0.0       0.0       0.0       0.0       0.0  \n",
       "9565        0.0       0.0       0.0       0.0       0.0  \n",
       "18043       0.0       0.0       0.0       0.0       0.0  \n",
       "17442       0.0       0.0       0.0       0.0       0.0  \n",
       "\n",
       "[5 rows x 784 columns]"
      ]
     },
     "execution_count": 126,
     "metadata": {},
     "output_type": "execute_result"
    }
   ],
   "source": [
    "df_test_norm.sample(5)"
   ]
  },
  {
   "cell_type": "markdown",
   "metadata": {},
   "source": [
    "## Change to Tensor"
   ]
  },
  {
   "cell_type": "code",
   "execution_count": 127,
   "metadata": {
    "ExecuteTime": {
     "end_time": "2022-06-02T03:40:42.937548Z",
     "start_time": "2022-06-02T03:40:42.830320Z"
    }
   },
   "outputs": [
    {
     "data": {
      "text/plain": [
       "<tf.Tensor: shape=(5, 784), dtype=float64, numpy=\n",
       "array([[0., 0., 0., ..., 0., 0., 0.],\n",
       "       [0., 0., 0., ..., 0., 0., 0.],\n",
       "       [0., 0., 0., ..., 0., 0., 0.],\n",
       "       [0., 0., 0., ..., 0., 0., 0.],\n",
       "       [0., 0., 0., ..., 0., 0., 0.]])>"
      ]
     },
     "execution_count": 127,
     "metadata": {},
     "output_type": "execute_result"
    }
   ],
   "source": [
    "test_data = tf.constant(df_test_norm)\n",
    "test_data[:5]"
   ]
  },
  {
   "cell_type": "markdown",
   "metadata": {},
   "source": [
    "## Predict"
   ]
  },
  {
   "cell_type": "code",
   "execution_count": 130,
   "metadata": {
    "ExecuteTime": {
     "end_time": "2022-06-02T03:42:06.305925Z",
     "start_time": "2022-06-02T03:42:05.292118Z"
    }
   },
   "outputs": [
    {
     "data": {
      "text/plain": [
       "array([[1.6056250e-04, 1.3451462e-13, 9.9968779e-01, 1.5082833e-04,\n",
       "        2.9089248e-12, 2.6896888e-07, 7.7481872e-08, 9.3422265e-09,\n",
       "        3.9795438e-07, 2.2646738e-08],\n",
       "       [9.9958962e-01, 1.7057848e-14, 1.8231640e-05, 9.3102742e-08,\n",
       "        8.7994296e-17, 3.9211239e-04, 2.9256540e-08, 9.3272515e-11,\n",
       "        3.4500193e-08, 1.5115487e-12],\n",
       "       [4.8941853e-05, 1.9199538e-04, 5.9208972e-04, 1.3096857e-02,\n",
       "        1.2918143e-01, 4.8230635e-03, 3.5611217e-04, 2.7434058e-02,\n",
       "        3.0111525e-02, 7.9416382e-01],\n",
       "       [4.9630697e-03, 1.9857066e-06, 1.7010209e-01, 7.0884274e-03,\n",
       "        2.1251532e-01, 5.6633726e-03, 1.0883669e-02, 2.5193685e-01,\n",
       "        1.0041386e-02, 3.2680392e-01],\n",
       "       [2.5625635e-05, 3.3167226e-03, 5.5398750e-01, 4.3863052e-01,\n",
       "        9.0036698e-09, 2.0094409e-03, 1.3102794e-05, 4.2722795e-06,\n",
       "        2.0065007e-03, 6.3855055e-06]], dtype=float32)"
      ]
     },
     "execution_count": 130,
     "metadata": {},
     "output_type": "execute_result"
    }
   ],
   "source": [
    "#Probability\n",
    "predict_proba = model.predict(test_data)\n",
    "predict_proba[:5]"
   ]
  },
  {
   "cell_type": "code",
   "execution_count": 132,
   "metadata": {
    "ExecuteTime": {
     "end_time": "2022-06-02T03:43:28.549394Z",
     "start_time": "2022-06-02T03:43:28.542388Z"
    }
   },
   "outputs": [
    {
     "data": {
      "text/plain": [
       "2"
      ]
     },
     "execution_count": 132,
     "metadata": {},
     "output_type": "execute_result"
    }
   ],
   "source": [
    "#prediction\n",
    "data_pred = predict_proba.argmax(axis=1)\n",
    "data_pred[0]"
   ]
  },
  {
   "cell_type": "markdown",
   "metadata": {},
   "source": [
    "## Visualization"
   ]
  },
  {
   "cell_type": "code",
   "execution_count": 160,
   "metadata": {
    "ExecuteTime": {
     "end_time": "2022-06-02T06:16:48.227830Z",
     "start_time": "2022-06-02T06:16:47.707566Z"
    }
   },
   "outputs": [
    {
     "data": {
      "image/png": "[encoded data removed]",
      "text/plain": [
       "<Figure size 504x504 with 9 Axes>"
      ]
     },
     "metadata": {
      "needs_background": "light"
     },
     "output_type": "display_data"
    }
   ],
   "source": [
    "plt.figure(figsize=(7,7))\n",
    "for i in range(9):\n",
    "    ax = plt.subplot(3,3,i+1).axis(False)\n",
    "    index = random.choice(range(len(df_test_norm)))\n",
    "    plt.imshow(df_test_norm.iloc[index].to_numpy(dtype='float32').reshape((28, 28, 1)) / 255.0,cmap = plt.cm.binary)\n",
    "    plt.title(f'Number:{data_pred[index]}')"
   ]
  },
  {
   "cell_type": "markdown",
   "metadata": {},
   "source": [
    "## Prediction New Data"
   ]
  },
  {
   "cell_type": "markdown",
   "metadata": {},
   "source": [
    "### Image Converter Function"
   ]
  },
  {
   "cell_type": "code",
   "execution_count": 193,
   "metadata": {
    "ExecuteTime": {
     "end_time": "2022-06-02T07:12:05.613152Z",
     "start_time": "2022-06-02T07:12:05.599661Z"
    }
   },
   "outputs": [],
   "source": [
    "# load and prepare the image\n",
    "def load_image(filename):\n",
    "    # load the image\n",
    "    img = load_img(filename, grayscale=True, target_size=(28, 28))\n",
    "    # convert to array\n",
    "    img = img_to_array(img)\n",
    "    # reshape into a single sample with 1 channel\n",
    "    img = img.reshape(28, 28)\n",
    "    # prepare pixel data\n",
    "    img = img.astype('float32')\n",
    "    img = img / 255.0\n",
    "    return img"
   ]
  },
  {
   "cell_type": "markdown",
   "metadata": {},
   "source": [
    "### Image Visualization"
   ]
  },
  {
   "cell_type": "code",
   "execution_count": 213,
   "metadata": {
    "ExecuteTime": {
     "end_time": "2022-06-02T07:21:29.216329Z",
     "start_time": "2022-06-02T07:21:28.817041Z"
    }
   },
   "outputs": [
    {
     "data": {
      "image/png": "[encoded data removed]",
      "text/plain": [
       "<Figure size 504x504 with 4 Axes>"
      ]
     },
     "metadata": {
      "needs_background": "light"
     },
     "output_type": "display_data"
    }
   ],
   "source": [
    "plt.figure(figsize=(7,7))\n",
    "A = 0\n",
    "testing = ['test1.jpeg','test2.jpeg','test3.jpeg','test4.jpg']\n",
    "\n",
    "for i in testing:\n",
    "    A+=1\n",
    "    plt.subplot(2,2,A)\n",
    "    plt.imshow(load_image(i),cmap = plt.cm.binary)"
   ]
  },
  {
   "cell_type": "markdown",
   "metadata": {},
   "source": [
    "### Prediction"
   ]
  },
  {
   "cell_type": "code",
   "execution_count": 214,
   "metadata": {
    "ExecuteTime": {
     "end_time": "2022-06-02T07:21:38.504091Z",
     "start_time": "2022-06-02T07:21:37.814097Z"
    }
   },
   "outputs": [
    {
     "data": {
      "image/png": "[encoded data removed]",
      "text/plain": [
       "<Figure size 504x504 with 4 Axes>"
      ]
     },
     "metadata": {
      "needs_background": "light"
     },
     "output_type": "display_data"
    }
   ],
   "source": [
    "plt.figure(figsize=(7,7))\n",
    "A = 0\n",
    "testing = ['test1.jpeg','test2.jpeg','test3.jpeg','test4.jpg']\n",
    "\n",
    "for i in testing:\n",
    "    A+=1\n",
    "    plt.subplot(2,2,A)\n",
    "    plt.imshow(load_image(i),cmap = plt.cm.binary)\n",
    "    plt.title(f'Prediction:{np.argmax((tf.round(model.predict(load_image(i).reshape(1,1,784)))))}')"
   ]
  },
  {
   "cell_type": "markdown",
   "metadata": {},
   "source": [
    "# Conclusion"
   ]
  },
  {
   "cell_type": "markdown",
   "metadata": {},
   "source": [
    "## Summary Model"
   ]
  },
  {
   "cell_type": "code",
   "execution_count": 230,
   "metadata": {
    "ExecuteTime": {
     "end_time": "2022-06-02T08:07:54.178608Z",
     "start_time": "2022-06-02T08:07:54.154607Z"
    }
   },
   "outputs": [
    {
     "data": {
      "text/html": [
       "<div>\n",
       "<style scoped>\n",
       "    .dataframe tbody tr th:only-of-type {\n",
       "        vertical-align: middle;\n",
       "    }\n",
       "\n",
       "    .dataframe tbody tr th {\n",
       "        vertical-align: top;\n",
       "    }\n",
       "\n",
       "    .dataframe thead th {\n",
       "        text-align: right;\n",
       "    }\n",
       "</style>\n",
       "<table border=\"1\" class=\"dataframe\">\n",
       "  <thead>\n",
       "    <tr style=\"text-align: right;\">\n",
       "      <th></th>\n",
       "      <th>Accuracy Data Train</th>\n",
       "      <th>Accuracy Data Test</th>\n",
       "    </tr>\n",
       "    <tr>\n",
       "      <th>Model</th>\n",
       "      <th></th>\n",
       "      <th></th>\n",
       "    </tr>\n",
       "  </thead>\n",
       "  <tbody>\n",
       "    <tr>\n",
       "      <th>Basic Neural Network</th>\n",
       "      <td>0.930544</td>\n",
       "      <td>0.917857</td>\n",
       "    </tr>\n",
       "    <tr>\n",
       "      <th>Neural Network Model</th>\n",
       "      <td>0.849524</td>\n",
       "      <td>0.832143</td>\n",
       "    </tr>\n",
       "    <tr>\n",
       "      <th>Neural Netwrok Hypertuned</th>\n",
       "      <td>0.933605</td>\n",
       "      <td>0.917857</td>\n",
       "    </tr>\n",
       "  </tbody>\n",
       "</table>\n",
       "</div>"
      ],
      "text/plain": [
       "                           Accuracy Data Train  Accuracy Data Test\n",
       "Model                                                             \n",
       "Basic Neural Network                  0.930544            0.917857\n",
       "Neural Network Model                  0.849524            0.832143\n",
       "Neural Netwrok Hypertuned             0.933605            0.917857"
      ]
     },
     "execution_count": 230,
     "metadata": {},
     "output_type": "execute_result"
    }
   ],
   "source": [
    "pd.DataFrame({'Model':[\"Basic Neural Network\",\"Neural Network Model\",\"Neural Netwrok Hypertuned\"],\n",
    "            'Accuracy Data Train':[sc_model1[1],sc_model6[1],sc_model[1]],\n",
    "            'Accuracy Data Test':[sc_model1_t[1],sc_model6_t[1],sc_model_t[1]],\n",
    "             }).set_index('Model')"
   ]
  },
  {
   "cell_type": "markdown",
   "metadata": {},
   "source": [
    "This model can differentiate single number based on input picture, but there are some limitation such as:\n",
    "* Model hard to differentiate the different style of number.\n",
    "* The position number on pictre is important.\n",
    "* Model only prefectly predict particular number (1,2,3,6).\n",
    "* Model can only predict number with white color and black background color.\n",
    "\n",
    "Overall Artificial Neural Network can be used to **Computer Vision**, but its not recommended."
   ]
  },
  {
   "cell_type": "markdown",
   "metadata": {},
   "source": [
    "## Recommendation"
   ]
  },
  {
   "cell_type": "markdown",
   "metadata": {},
   "source": [
    "Use **Convolutional Neural** Network for Computer Vision"
   ]
  }
 ],
 "metadata": {
  "kernelspec": {
   "display_name": "Python 3",
   "language": "python",
   "name": "python3"
  },
  "language_info": {
   "codemirror_mode": {
    "name": "ipython",
    "version": 3
   },
   "file_extension": ".py",
   "mimetype": "text/x-python",
   "name": "python",
   "nbconvert_exporter": "python",
   "pygments_lexer": "ipython3",
   "version": "3.8.3"
  },
  "toc": {
   "base_numbering": 1,
   "nav_menu": {},
   "number_sections": true,
   "sideBar": true,
   "skip_h1_title": false,
   "title_cell": "Table of Contents",
   "title_sidebar": "Contents",
   "toc_cell": false,
   "toc_position": {
    "height": "calc(100% - 180px)",
    "left": "10px",
    "top": "150px",
    "width": "284.433px"
   },
   "toc_section_display": true,
   "toc_window_display": true
  }
 },
 "nbformat": 4,
 "nbformat_minor": 4
}
